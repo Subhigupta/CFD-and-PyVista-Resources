{
 "cells": [
  {
   "cell_type": "markdown",
   "id": "113817bd",
   "metadata": {},
   "source": [
    "### Import all necessary libraries"
   ]
  },
  {
   "cell_type": "code",
   "execution_count": 132,
   "id": "6901b345",
   "metadata": {},
   "outputs": [],
   "source": [
    "import pyvista as pv\n",
    "import os\n",
    "import pandas as pd\n",
    "from sklearn.metrics import mean_squared_error,root_mean_squared_error,r2_score,mean_absolute_error,accuracy_score\n",
    "import numpy as np"
   ]
  },
  {
   "cell_type": "markdown",
   "id": "1573dac3",
   "metadata": {},
   "source": [
    "### Define the function for reading any mesh data"
   ]
  },
  {
   "cell_type": "code",
   "execution_count": 133,
   "id": "3b44b3a7",
   "metadata": {},
   "outputs": [],
   "source": [
    "def _get_foam_file(file_path):\n",
    "    for file in os.listdir(file_path):\n",
    "        if file.endswith('.foam'):\n",
    "            return os.path.join(file_path, file)\n",
    "        \n",
    "def _read_mesh_data(work_dir):\n",
    "\n",
    "    reader = pv.OpenFOAMReader(_get_foam_file(work_dir))\n",
    "    last_time_step = int(reader.time_values[-1])\n",
    "    reader.set_active_time_value(last_time_step)\n",
    "    # reader.cell_to_point_creation = False\n",
    "\n",
    "    internal_mesh = reader.read()[\"internalMesh\"]\n",
    "    boundaries = reader.read()[\"boundary\"]\n",
    "\n",
    "    internal_mesh.work_dir = work_dir\n",
    "    internal_mesh.active_time_value = last_time_step\n",
    "\n",
    "    return internal_mesh, boundaries\n",
    "\n",
    "def _select_only_relevant_field_data(pvObject, fields):\n",
    "\n",
    "    pvCopy = pvObject.copy()\n",
    "    pvCopy.clear_data()\n",
    "    for field in fields:\n",
    "        if field in pvObject.array_names:\n",
    "            pvCopy[field] = pvObject[field]\n",
    "    \n",
    "    pvCopy = pvCopy.cell_data_to_point_data() #converting cell data to point data\n",
    "    return pvCopy\n",
    "\n",
    "fields = ['epsilon', 'U', 'mag(U)','k', 'strainRate']"
   ]
  },
  {
   "cell_type": "markdown",
   "id": "1021da8b",
   "metadata": {},
   "source": [
    "### Read the largest geometry mesh"
   ]
  },
  {
   "cell_type": "code",
   "execution_count": 134,
   "id": "c60605de",
   "metadata": {},
   "outputs": [
    {
     "data": {
      "text/html": [
       "\n",
       "<table>\n",
       "<tr><th>UnstructuredGrid</th><th>Information</th></tr>\n",
       "<tr><td>N Cells</td><td>1004477</td></tr>\n",
       "<tr><td>N Points</td><td>1185213</td></tr>\n",
       "<tr><td>X Bounds</td><td>-1.850e-01, 1.850e-01</td></tr>\n",
       "<tr><td>Y Bounds</td><td>-1.850e-01, 1.850e-01</td></tr>\n",
       "<tr><td>Z Bounds</td><td>-9.250e-02, 4.039e-01</td></tr>\n",
       "<tr><td>N Arrays</td><td>0</td></tr>\n",
       "</table>\n",
       "\n"
      ],
      "text/plain": [
       "UnstructuredGrid (0x216ba6491c0)\n",
       "  N Cells:\t1004477\n",
       "  N Points:\t1185213\n",
       "  X Bounds:\t-1.850e-01, 1.850e-01\n",
       "  Y Bounds:\t-1.850e-01, 1.850e-01\n",
       "  Z Bounds:\t-9.250e-02, 4.039e-01\n",
       "  N Arrays:\t0"
      ]
     },
     "execution_count": 134,
     "metadata": {},
     "output_type": "execute_result"
    }
   ],
   "source": [
    "largest_mesh_dir=r\"D:\\GPOD ANN Sartorius BioStat 50L 30 degrees removed geoms modified v3\\Sartorius BioStat 50L\\BIOSTAT_50L_Run_41\"\n",
    "largest_mesh,_=_read_mesh_data(largest_mesh_dir)\n",
    "largest_mesh.clear_data()\n",
    "largest_mesh"
   ]
  },
  {
   "cell_type": "markdown",
   "id": "18a8d2d6",
   "metadata": {},
   "source": [
    "### Read the target mesh that is to be interpolated"
   ]
  },
  {
   "cell_type": "code",
   "execution_count": 135,
   "id": "f74ca49e",
   "metadata": {},
   "outputs": [
    {
     "data": {
      "text/html": [
       "<table><tr><th>Header</th><th>Data Arrays</th></tr><tr><td>\n",
       "<table>\n",
       "<tr><th>UnstructuredGrid</th><th>Information</th></tr>\n",
       "<tr><td>N Cells</td><td>832347</td></tr>\n",
       "<tr><td>N Points</td><td>977284</td></tr>\n",
       "<tr><td>X Bounds</td><td>-1.850e-01, 1.850e-01</td></tr>\n",
       "<tr><td>Y Bounds</td><td>-1.850e-01, 1.850e-01</td></tr>\n",
       "<tr><td>Z Bounds</td><td>-9.250e-02, 2.359e-01</td></tr>\n",
       "<tr><td>N Arrays</td><td>5</td></tr>\n",
       "</table>\n",
       "\n",
       "</td><td>\n",
       "<table>\n",
       "<tr><th>Name</th><th>Field</th><th>Type</th><th>N Comp</th><th>Min</th><th>Max</th></tr>\n",
       "<tr><td>epsilon</td><td>Points</td><td>float32</td><td>1</td><td>4.610e-04</td><td>3.462e+01</td></tr>\n",
       "<tr><td>U</td><td>Points</td><td>float32</td><td>3</td><td>-9.374e-01</td><td>9.024e-01</td></tr>\n",
       "<tr><td>mag(U)</td><td>Points</td><td>float32</td><td>1</td><td>3.076e-03</td><td>9.942e-01</td></tr>\n",
       "<tr><td>k</td><td>Points</td><td>float32</td><td>1</td><td>1.862e-04</td><td>6.693e-02</td></tr>\n",
       "<tr><td><b>strainRate</b></td><td>Points</td><td>float32</td><td>1</td><td>0.000e+00</td><td>1.939e+03</td></tr>\n",
       "</table>\n",
       "\n",
       "</td></tr> </table>"
      ],
      "text/plain": [
       "UnstructuredGrid (0x216e1f78160)\n",
       "  N Cells:\t832347\n",
       "  N Points:\t977284\n",
       "  X Bounds:\t-1.850e-01, 1.850e-01\n",
       "  Y Bounds:\t-1.850e-01, 1.850e-01\n",
       "  Z Bounds:\t-9.250e-02, 2.359e-01\n",
       "  N Arrays:\t5"
      ]
     },
     "execution_count": 135,
     "metadata": {},
     "output_type": "execute_result"
    }
   ],
   "source": [
    "target_mesh_dir=r\"D:\\GPOD ANN Sartorius BioStat 50L 30 degrees removed geoms modified v3\\Sartorius BioStat 50L\\BIOSTAT_50L_Run_07\"\n",
    "internal_mesh,_=_read_mesh_data(target_mesh_dir)\n",
    "target_mesh=_select_only_relevant_field_data(internal_mesh, fields)\n",
    "target_mesh"
   ]
  },
  {
   "cell_type": "markdown",
   "id": "57e7e2b0",
   "metadata": {},
   "source": [
    "### Interpolate the target mesh against largest geometry with radius=0.001"
   ]
  },
  {
   "cell_type": "code",
   "execution_count": 99,
   "id": "6f872cd6",
   "metadata": {},
   "outputs": [
    {
     "name": "stderr",
     "output_type": "stream",
     "text": [
      "Interpolating: 100%|██████████████████████████████████████████████████████████████████████████████████████[00:00<00:00]\n"
     ]
    }
   ],
   "source": [
    "interp_mesh = largest_mesh.interpolate(target_mesh, radius = 1e-3, progress_bar = True)"
   ]
  },
  {
   "cell_type": "code",
   "execution_count": 100,
   "id": "7b69ea44",
   "metadata": {},
   "outputs": [
    {
     "data": {
      "text/html": [
       "<table><tr><th>Header</th><th>Data Arrays</th></tr><tr><td>\n",
       "<table>\n",
       "<tr><th>UnstructuredGrid</th><th>Information</th></tr>\n",
       "<tr><td>N Cells</td><td>1004477</td></tr>\n",
       "<tr><td>N Points</td><td>1185213</td></tr>\n",
       "<tr><td>X Bounds</td><td>-1.850e-01, 1.850e-01</td></tr>\n",
       "<tr><td>Y Bounds</td><td>-1.850e-01, 1.850e-01</td></tr>\n",
       "<tr><td>Z Bounds</td><td>-9.250e-02, 4.039e-01</td></tr>\n",
       "<tr><td>N Arrays</td><td>5</td></tr>\n",
       "</table>\n",
       "\n",
       "</td><td>\n",
       "<table>\n",
       "<tr><th>Name</th><th>Field</th><th>Type</th><th>N Comp</th><th>Min</th><th>Max</th></tr>\n",
       "<tr><td>epsilon</td><td>Cells</td><td>float32</td><td>1</td><td>0.000e+00</td><td>1.146e+01</td></tr>\n",
       "<tr><td>U</td><td>Cells</td><td>float32</td><td>3</td><td>-9.084e-01</td><td>8.858e-01</td></tr>\n",
       "<tr><td>mag(U)</td><td>Cells</td><td>float32</td><td>1</td><td>0.000e+00</td><td>9.533e-01</td></tr>\n",
       "<tr><td>k</td><td>Cells</td><td>float32</td><td>1</td><td>0.000e+00</td><td>6.302e-02</td></tr>\n",
       "<tr><td><b>strainRate</b></td><td>Cells</td><td>float32</td><td>1</td><td>0.000e+00</td><td>8.217e+02</td></tr>\n",
       "</table>\n",
       "\n",
       "</td></tr> </table>"
      ],
      "text/plain": [
       "UnstructuredGrid (0x216aa47f2e0)\n",
       "  N Cells:\t1004477\n",
       "  N Points:\t1185213\n",
       "  X Bounds:\t-1.850e-01, 1.850e-01\n",
       "  Y Bounds:\t-1.850e-01, 1.850e-01\n",
       "  Z Bounds:\t-9.250e-02, 4.039e-01\n",
       "  N Arrays:\t5"
      ]
     },
     "execution_count": 100,
     "metadata": {},
     "output_type": "execute_result"
    }
   ],
   "source": [
    "interp_mesh = interp_mesh.point_data_to_cell_data()\n",
    "interp_mesh"
   ]
  },
  {
   "cell_type": "code",
   "execution_count": 113,
   "id": "dc2853b4",
   "metadata": {},
   "outputs": [
    {
     "data": {
      "application/vnd.jupyter.widget-view+json": {
       "model_id": "e926b5519a594e739f5e1fce6064735d",
       "version_major": 2,
       "version_minor": 0
      },
      "text/plain": [
       "ViewInteractiveWidget(height=768, layout=Layout(height='auto', width='100%'), width=1024)"
      ]
     },
     "metadata": {},
     "output_type": "display_data"
    }
   ],
   "source": [
    "pl = pv.Plotter()\n",
    "pl.set_background('white')\n",
    "pl.add_mesh(interp_mesh.slice(normal='y'),scalars=\"mag(U)\",clim=[1e-3,1],scalar_bar_args={'color':'black'})\n",
    "pl.view_xz()\n",
    "pl.show()"
   ]
  },
  {
   "cell_type": "markdown",
   "id": "029b68d7",
   "metadata": {},
   "source": [
    "### Interpolate the target mesh against largest geometry with radius=0.0155"
   ]
  },
  {
   "cell_type": "code",
   "execution_count": 199,
   "id": "328481fc",
   "metadata": {},
   "outputs": [
    {
     "name": "stdout",
     "output_type": "stream",
     "text": [
      "0.015572737902402878\n"
     ]
    }
   ],
   "source": [
    "bounds = target_mesh.extract_cells(1).bounds\n",
    "radius = min([bounds[i+1]-bounds[i] for i in [0,2,4]])\n",
    "print(radius*5)"
   ]
  },
  {
   "cell_type": "code",
   "execution_count": 200,
   "id": "00fede29",
   "metadata": {},
   "outputs": [
    {
     "name": "stderr",
     "output_type": "stream",
     "text": [
      "Interpolating: 100%|██████████████████████████████████████████████████████████████████████████████████████[01:24<00:00]\n"
     ]
    }
   ],
   "source": [
    "interp_mesh_v2 = largest_mesh.interpolate(target_mesh, radius = radius*5, progress_bar = True)\n",
    "interp_mesh_v2 = interp_mesh_v2.point_data_to_cell_data()"
   ]
  },
  {
   "cell_type": "code",
   "execution_count": 201,
   "id": "07ceae7e",
   "metadata": {},
   "outputs": [
    {
     "data": {
      "text/html": [
       "<table><tr><th>Header</th><th>Data Arrays</th></tr><tr><td>\n",
       "<table>\n",
       "<tr><th>UnstructuredGrid</th><th>Information</th></tr>\n",
       "<tr><td>N Cells</td><td>1004477</td></tr>\n",
       "<tr><td>N Points</td><td>1185213</td></tr>\n",
       "<tr><td>X Bounds</td><td>-1.850e-01, 1.850e-01</td></tr>\n",
       "<tr><td>Y Bounds</td><td>-1.850e-01, 1.850e-01</td></tr>\n",
       "<tr><td>Z Bounds</td><td>-9.250e-02, 4.039e-01</td></tr>\n",
       "<tr><td>N Arrays</td><td>5</td></tr>\n",
       "</table>\n",
       "\n",
       "</td><td>\n",
       "<table>\n",
       "<tr><th>Name</th><th>Field</th><th>Type</th><th>N Comp</th><th>Min</th><th>Max</th></tr>\n",
       "<tr><td>epsilon</td><td>Cells</td><td>float32</td><td>1</td><td>0.000e+00</td><td>6.978e+00</td></tr>\n",
       "<tr><td>U</td><td>Cells</td><td>float32</td><td>3</td><td>-9.084e-01</td><td>8.596e-01</td></tr>\n",
       "<tr><td>mag(U)</td><td>Cells</td><td>float32</td><td>1</td><td>0.000e+00</td><td>9.413e-01</td></tr>\n",
       "<tr><td>k</td><td>Cells</td><td>float32</td><td>1</td><td>0.000e+00</td><td>5.525e-02</td></tr>\n",
       "<tr><td><b>strainRate</b></td><td>Cells</td><td>float32</td><td>1</td><td>0.000e+00</td><td>8.072e+02</td></tr>\n",
       "</table>\n",
       "\n",
       "</td></tr> </table>"
      ],
      "text/plain": [
       "UnstructuredGrid (0x216deec1280)\n",
       "  N Cells:\t1004477\n",
       "  N Points:\t1185213\n",
       "  X Bounds:\t-1.850e-01, 1.850e-01\n",
       "  Y Bounds:\t-1.850e-01, 1.850e-01\n",
       "  Z Bounds:\t-9.250e-02, 4.039e-01\n",
       "  N Arrays:\t5"
      ]
     },
     "execution_count": 201,
     "metadata": {},
     "output_type": "execute_result"
    }
   ],
   "source": [
    "interp_mesh_v2"
   ]
  },
  {
   "cell_type": "code",
   "execution_count": 114,
   "id": "72fcb5e8",
   "metadata": {},
   "outputs": [
    {
     "data": {
      "application/vnd.jupyter.widget-view+json": {
       "model_id": "09421385b8c045cfad73a0935460e892",
       "version_major": 2,
       "version_minor": 0
      },
      "text/plain": [
       "ViewInteractiveWidget(height=768, layout=Layout(height='auto', width='100%'), width=1024)"
      ]
     },
     "metadata": {},
     "output_type": "display_data"
    }
   ],
   "source": [
    "pl = pv.Plotter()\n",
    "pl.set_background('white')\n",
    "pl.add_mesh(interp_mesh_v2.slice(normal='y'),scalars=\"mag(U)\",clim=[1e-3,1],scalar_bar_args={'color':'black'})\n",
    "pl.view_xz()\n",
    "pl.show()"
   ]
  },
  {
   "cell_type": "markdown",
   "id": "91d28643",
   "metadata": {},
   "source": [
    "### Interpolate the target mesh against largest geometry with radius=0.0311"
   ]
  },
  {
   "cell_type": "code",
   "execution_count": 15,
   "id": "8756e18d",
   "metadata": {},
   "outputs": [
    {
     "name": "stdout",
     "output_type": "stream",
     "text": [
      "0.031145475804805756\n"
     ]
    }
   ],
   "source": [
    "print(radius*10)"
   ]
  },
  {
   "cell_type": "code",
   "execution_count": 16,
   "id": "284a7774",
   "metadata": {},
   "outputs": [
    {
     "name": "stderr",
     "output_type": "stream",
     "text": [
      "Interpolating: 100%|██████████████████████████████████████████████████████████████████████████████████████[06:33<00:00]\n"
     ]
    }
   ],
   "source": [
    "interp_mesh_v3 = largest_mesh.interpolate(target_mesh, radius = radius*10, progress_bar = True)\n",
    "interp_mesh_v3 = interp_mesh_v3.point_data_to_cell_data()"
   ]
  },
  {
   "cell_type": "code",
   "execution_count": 57,
   "id": "aef63df2",
   "metadata": {},
   "outputs": [
    {
     "data": {
      "text/html": [
       "<table><tr><th>Header</th><th>Data Arrays</th></tr><tr><td>\n",
       "<table>\n",
       "<tr><th>UnstructuredGrid</th><th>Information</th></tr>\n",
       "<tr><td>N Cells</td><td>1004477</td></tr>\n",
       "<tr><td>N Points</td><td>1185213</td></tr>\n",
       "<tr><td>X Bounds</td><td>-1.850e-01, 1.850e-01</td></tr>\n",
       "<tr><td>Y Bounds</td><td>-1.850e-01, 1.850e-01</td></tr>\n",
       "<tr><td>Z Bounds</td><td>-9.250e-02, 4.039e-01</td></tr>\n",
       "<tr><td>N Arrays</td><td>5</td></tr>\n",
       "</table>\n",
       "\n",
       "</td><td>\n",
       "<table>\n",
       "<tr><th>Name</th><th>Field</th><th>Type</th><th>N Comp</th><th>Min</th><th>Max</th></tr>\n",
       "<tr><td>epsilon</td><td>Cells</td><td>float32</td><td>1</td><td>1.052e-04</td><td>8.499e+00</td></tr>\n",
       "<tr><td>U</td><td>Cells</td><td>float32</td><td>3</td><td>-7.078e-01</td><td>7.230e-01</td></tr>\n",
       "<tr><td>mag(U)</td><td>Cells</td><td>float32</td><td>1</td><td>5.164e-03</td><td>7.666e-01</td></tr>\n",
       "<tr><td>k</td><td>Cells</td><td>float32</td><td>1</td><td>7.854e-05</td><td>3.938e-02</td></tr>\n",
       "<tr><td><b>strainRate</b></td><td>Cells</td><td>float32</td><td>1</td><td>3.528e-01</td><td>6.479e+02</td></tr>\n",
       "</table>\n",
       "\n",
       "</td></tr> </table>"
      ],
      "text/plain": [
       "UnstructuredGrid (0x20271196dc0)\n",
       "  N Cells:\t1004477\n",
       "  N Points:\t1185213\n",
       "  X Bounds:\t-1.850e-01, 1.850e-01\n",
       "  Y Bounds:\t-1.850e-01, 1.850e-01\n",
       "  Z Bounds:\t-9.250e-02, 4.039e-01\n",
       "  N Arrays:\t5"
      ]
     },
     "execution_count": 57,
     "metadata": {},
     "output_type": "execute_result"
    }
   ],
   "source": [
    "interp_mesh_v3"
   ]
  },
  {
   "cell_type": "code",
   "execution_count": 115,
   "id": "41942893",
   "metadata": {
    "scrolled": true
   },
   "outputs": [
    {
     "data": {
      "application/vnd.jupyter.widget-view+json": {
       "model_id": "9b90da2c95624c1d901a5beba1614893",
       "version_major": 2,
       "version_minor": 0
      },
      "text/plain": [
       "ViewInteractiveWidget(height=768, layout=Layout(height='auto', width='100%'), width=1024)"
      ]
     },
     "metadata": {},
     "output_type": "display_data"
    }
   ],
   "source": [
    "pl = pv.Plotter()\n",
    "pl.set_background('white')\n",
    "pl.add_mesh(interp_mesh_v3.slice(normal='y'),scalars=\"mag(U)\",clim=[1e-3,1],scalar_bar_args={'color':'black'})\n",
    "pl.view_xz()\n",
    "pl.show()"
   ]
  },
  {
   "cell_type": "markdown",
   "id": "cae874ff",
   "metadata": {},
   "source": [
    "### Interpolate the target mesh against largest geometry with radius=0.05"
   ]
  },
  {
   "cell_type": "code",
   "execution_count": 40,
   "id": "5579f53c",
   "metadata": {},
   "outputs": [
    {
     "name": "stderr",
     "output_type": "stream",
     "text": [
      "Interpolating: 100%|██████████████████████████████████████████████████████████████████████████████████████[22:05<00:00]\n"
     ]
    }
   ],
   "source": [
    "interp_mesh_v4 = largest_mesh.interpolate(target_mesh, radius = 0.05, progress_bar = True)\n",
    "interp_mesh_v4 = interp_mesh_v4.point_data_to_cell_data()"
   ]
  },
  {
   "cell_type": "code",
   "execution_count": null,
   "id": "a966e1da",
   "metadata": {},
   "outputs": [],
   "source": [
    "interp_mesh_v4"
   ]
  },
  {
   "cell_type": "code",
   "execution_count": 116,
   "id": "97837979",
   "metadata": {},
   "outputs": [
    {
     "data": {
      "application/vnd.jupyter.widget-view+json": {
       "model_id": "435c8d59221f44a6a822277aee64cdbc",
       "version_major": 2,
       "version_minor": 0
      },
      "text/plain": [
       "ViewInteractiveWidget(height=768, layout=Layout(height='auto', width='100%'), width=1024)"
      ]
     },
     "metadata": {},
     "output_type": "display_data"
    }
   ],
   "source": [
    "pl = pv.Plotter()\n",
    "pl.set_background('white')\n",
    "pl.add_mesh(interp_mesh_v4.slice(normal='y'),scalars=\"mag(U)\",clim=[1e-3,1],scalar_bar_args={'color':'black'})\n",
    "pl.view_xz()\n",
    "pl.show()"
   ]
  },
  {
   "cell_type": "markdown",
   "id": "8facddbe",
   "metadata": {},
   "source": [
    "### Interpolate the target mesh against largest geometry with radius=0.008"
   ]
  },
  {
   "cell_type": "code",
   "execution_count": 117,
   "id": "219de367",
   "metadata": {},
   "outputs": [
    {
     "name": "stderr",
     "output_type": "stream",
     "text": [
      "Interpolating: 100%|██████████████████████████████████████████████████████████████████████████████████████[00:15<00:00]\n"
     ]
    },
    {
     "data": {
      "text/html": [
       "<table><tr><th>Header</th><th>Data Arrays</th></tr><tr><td>\n",
       "<table>\n",
       "<tr><th>UnstructuredGrid</th><th>Information</th></tr>\n",
       "<tr><td>N Cells</td><td>1004477</td></tr>\n",
       "<tr><td>N Points</td><td>1185213</td></tr>\n",
       "<tr><td>X Bounds</td><td>-1.850e-01, 1.850e-01</td></tr>\n",
       "<tr><td>Y Bounds</td><td>-1.850e-01, 1.850e-01</td></tr>\n",
       "<tr><td>Z Bounds</td><td>-9.250e-02, 4.039e-01</td></tr>\n",
       "<tr><td>N Arrays</td><td>5</td></tr>\n",
       "</table>\n",
       "\n",
       "</td><td>\n",
       "<table>\n",
       "<tr><th>Name</th><th>Field</th><th>Type</th><th>N Comp</th><th>Min</th><th>Max</th></tr>\n",
       "<tr><td>epsilon</td><td>Points</td><td>float32</td><td>1</td><td>0.000e+00</td><td>3.462e+01</td></tr>\n",
       "<tr><td>U</td><td>Points</td><td>float32</td><td>3</td><td>-9.374e-01</td><td>8.962e-01</td></tr>\n",
       "<tr><td>mag(U)</td><td>Points</td><td>float32</td><td>1</td><td>0.000e+00</td><td>9.675e-01</td></tr>\n",
       "<tr><td>k</td><td>Points</td><td>float32</td><td>1</td><td>0.000e+00</td><td>6.281e-02</td></tr>\n",
       "<tr><td><b>strainRate</b></td><td>Points</td><td>float32</td><td>1</td><td>0.000e+00</td><td>1.860e+03</td></tr>\n",
       "</table>\n",
       "\n",
       "</td></tr> </table>"
      ],
      "text/plain": [
       "UnstructuredGrid (0x216b867c520)\n",
       "  N Cells:\t1004477\n",
       "  N Points:\t1185213\n",
       "  X Bounds:\t-1.850e-01, 1.850e-01\n",
       "  Y Bounds:\t-1.850e-01, 1.850e-01\n",
       "  Z Bounds:\t-9.250e-02, 4.039e-01\n",
       "  N Arrays:\t5"
      ]
     },
     "execution_count": 117,
     "metadata": {},
     "output_type": "execute_result"
    }
   ],
   "source": [
    "interp_mesh_v5 = largest_mesh.interpolate(target_mesh, radius = 0.008, progress_bar = True)\n",
    "interp_mesh_v5"
   ]
  },
  {
   "cell_type": "code",
   "execution_count": 118,
   "id": "47316a19",
   "metadata": {},
   "outputs": [],
   "source": [
    "interp_mesh_v5 = interp_mesh_v5.point_data_to_cell_data()"
   ]
  },
  {
   "cell_type": "code",
   "execution_count": 121,
   "id": "93e7dc08",
   "metadata": {},
   "outputs": [
    {
     "data": {
      "application/vnd.jupyter.widget-view+json": {
       "model_id": "90984327d6344a499a1ae9baccd0cd8a",
       "version_major": 2,
       "version_minor": 0
      },
      "text/plain": [
       "ViewInteractiveWidget(height=768, layout=Layout(height='auto', width='100%'), width=1024)"
      ]
     },
     "metadata": {},
     "output_type": "display_data"
    }
   ],
   "source": [
    "pl = pv.Plotter()\n",
    "pl.set_background('white')\n",
    "pl.add_mesh(interp_mesh_v5.slice(normal='y'),scalars=\"mag(U)\",clim=[1e-3,1],scalar_bar_args={'color':'black'})\n",
    "pl.view_xz()\n",
    "pl.show()"
   ]
  },
  {
   "cell_type": "markdown",
   "id": "799a32ce",
   "metadata": {},
   "source": [
    "### Interpolate the target mesh against largest geometry with radius=0.0015"
   ]
  },
  {
   "cell_type": "code",
   "execution_count": 192,
   "id": "45edc40e",
   "metadata": {},
   "outputs": [
    {
     "name": "stderr",
     "output_type": "stream",
     "text": [
      "Interpolating: 100%|██████████████████████████████████████████████████████████████████████████████████████[00:00<00:00]\n"
     ]
    },
    {
     "data": {
      "text/html": [
       "<table><tr><th>Header</th><th>Data Arrays</th></tr><tr><td>\n",
       "<table>\n",
       "<tr><th>UnstructuredGrid</th><th>Information</th></tr>\n",
       "<tr><td>N Cells</td><td>1004477</td></tr>\n",
       "<tr><td>N Points</td><td>1185213</td></tr>\n",
       "<tr><td>X Bounds</td><td>-1.850e-01, 1.850e-01</td></tr>\n",
       "<tr><td>Y Bounds</td><td>-1.850e-01, 1.850e-01</td></tr>\n",
       "<tr><td>Z Bounds</td><td>-9.250e-02, 4.039e-01</td></tr>\n",
       "<tr><td>N Arrays</td><td>5</td></tr>\n",
       "</table>\n",
       "\n",
       "</td><td>\n",
       "<table>\n",
       "<tr><th>Name</th><th>Field</th><th>Type</th><th>N Comp</th><th>Min</th><th>Max</th></tr>\n",
       "<tr><td>epsilon</td><td>Cells</td><td>float32</td><td>1</td><td>0.000e+00</td><td>1.270e+01</td></tr>\n",
       "<tr><td>U</td><td>Cells</td><td>float32</td><td>3</td><td>-9.084e-01</td><td>8.754e-01</td></tr>\n",
       "<tr><td>mag(U)</td><td>Cells</td><td>float32</td><td>1</td><td>0.000e+00</td><td>9.449e-01</td></tr>\n",
       "<tr><td>k</td><td>Cells</td><td>float32</td><td>1</td><td>0.000e+00</td><td>6.209e-02</td></tr>\n",
       "<tr><td><b>strainRate</b></td><td>Cells</td><td>float32</td><td>1</td><td>0.000e+00</td><td>8.072e+02</td></tr>\n",
       "</table>\n",
       "\n",
       "</td></tr> </table>"
      ],
      "text/plain": [
       "UnstructuredGrid (0x216f03f0f40)\n",
       "  N Cells:\t1004477\n",
       "  N Points:\t1185213\n",
       "  X Bounds:\t-1.850e-01, 1.850e-01\n",
       "  Y Bounds:\t-1.850e-01, 1.850e-01\n",
       "  Z Bounds:\t-9.250e-02, 4.039e-01\n",
       "  N Arrays:\t5"
      ]
     },
     "execution_count": 192,
     "metadata": {},
     "output_type": "execute_result"
    }
   ],
   "source": [
    "interp_mesh_v6 = largest_mesh.interpolate(target_mesh, radius = 0.0015, progress_bar = True)\n",
    "interp_mesh_v6=interp_mesh_v6.point_data_to_cell_data()\n",
    "interp_mesh_v6"
   ]
  },
  {
   "cell_type": "code",
   "execution_count": 193,
   "id": "471de974",
   "metadata": {},
   "outputs": [
    {
     "data": {
      "application/vnd.jupyter.widget-view+json": {
       "model_id": "6c43bb585d674fb8ba7dbb6ed598345d",
       "version_major": 2,
       "version_minor": 0
      },
      "text/plain": [
       "ViewInteractiveWidget(height=768, layout=Layout(height='auto', width='100%'), width=1024)"
      ]
     },
     "metadata": {},
     "output_type": "display_data"
    }
   ],
   "source": [
    "pl = pv.Plotter()\n",
    "pl.set_background('white')\n",
    "pl.add_mesh(interp_mesh_v6.slice(normal='y'),scalars=\"mag(U)\",clim=[1e-3,1],scalar_bar_args={'color':'black'})\n",
    "pl.view_xz()\n",
    "pl.show()"
   ]
  },
  {
   "cell_type": "markdown",
   "id": "ef65efee",
   "metadata": {},
   "source": [
    "### Interpolate the target mesh against largest geometry with radius=0.0075"
   ]
  },
  {
   "cell_type": "code",
   "execution_count": 180,
   "id": "21455d98",
   "metadata": {},
   "outputs": [
    {
     "name": "stderr",
     "output_type": "stream",
     "text": [
      "Interpolating: 100%|██████████████████████████████████████████████████████████████████████████████████████[00:12<00:00]\n"
     ]
    },
    {
     "data": {
      "text/html": [
       "<table><tr><th>Header</th><th>Data Arrays</th></tr><tr><td>\n",
       "<table>\n",
       "<tr><th>UnstructuredGrid</th><th>Information</th></tr>\n",
       "<tr><td>N Cells</td><td>1004477</td></tr>\n",
       "<tr><td>N Points</td><td>1185213</td></tr>\n",
       "<tr><td>X Bounds</td><td>-1.850e-01, 1.850e-01</td></tr>\n",
       "<tr><td>Y Bounds</td><td>-1.850e-01, 1.850e-01</td></tr>\n",
       "<tr><td>Z Bounds</td><td>-9.250e-02, 4.039e-01</td></tr>\n",
       "<tr><td>N Arrays</td><td>5</td></tr>\n",
       "</table>\n",
       "\n",
       "</td><td>\n",
       "<table>\n",
       "<tr><th>Name</th><th>Field</th><th>Type</th><th>N Comp</th><th>Min</th><th>Max</th></tr>\n",
       "<tr><td>epsilon</td><td>Cells</td><td>float32</td><td>1</td><td>0.000e+00</td><td>7.250e+00</td></tr>\n",
       "<tr><td>U</td><td>Cells</td><td>float32</td><td>3</td><td>-9.084e-01</td><td>8.596e-01</td></tr>\n",
       "<tr><td>mag(U)</td><td>Cells</td><td>float32</td><td>1</td><td>0.000e+00</td><td>9.413e-01</td></tr>\n",
       "<tr><td>k</td><td>Cells</td><td>float32</td><td>1</td><td>0.000e+00</td><td>5.605e-02</td></tr>\n",
       "<tr><td><b>strainRate</b></td><td>Cells</td><td>float32</td><td>1</td><td>0.000e+00</td><td>8.072e+02</td></tr>\n",
       "</table>\n",
       "\n",
       "</td></tr> </table>"
      ],
      "text/plain": [
       "UnstructuredGrid (0x216e2182880)\n",
       "  N Cells:\t1004477\n",
       "  N Points:\t1185213\n",
       "  X Bounds:\t-1.850e-01, 1.850e-01\n",
       "  Y Bounds:\t-1.850e-01, 1.850e-01\n",
       "  Z Bounds:\t-9.250e-02, 4.039e-01\n",
       "  N Arrays:\t5"
      ]
     },
     "execution_count": 180,
     "metadata": {},
     "output_type": "execute_result"
    }
   ],
   "source": [
    "interp_mesh_v7 = largest_mesh.interpolate(target_mesh, radius = 0.0075, progress_bar = True)\n",
    "interp_mesh_v7=interp_mesh_v7.point_data_to_cell_data()\n",
    "interp_mesh_v7"
   ]
  },
  {
   "cell_type": "code",
   "execution_count": 181,
   "id": "3be5d13c",
   "metadata": {},
   "outputs": [
    {
     "data": {
      "application/vnd.jupyter.widget-view+json": {
       "model_id": "9e92b3a724a3434ca3a4363840f31c38",
       "version_major": 2,
       "version_minor": 0
      },
      "text/plain": [
       "ViewInteractiveWidget(height=768, layout=Layout(height='auto', width='100%'), width=1024)"
      ]
     },
     "metadata": {},
     "output_type": "display_data"
    }
   ],
   "source": [
    "pl = pv.Plotter()\n",
    "pl.set_background('white')\n",
    "pl.add_mesh(interp_mesh_v7.slice(normal='y'),scalars=\"mag(U)\",clim=[1e-3,1],scalar_bar_args={'color':'black'})\n",
    "pl.view_xz()\n",
    "pl.show()"
   ]
  },
  {
   "cell_type": "markdown",
   "id": "16b4c775",
   "metadata": {},
   "source": [
    "### Interpolate the target mesh against largest geometry with radius=0.0071"
   ]
  },
  {
   "cell_type": "code",
   "execution_count": 190,
   "id": "4544bf62",
   "metadata": {},
   "outputs": [
    {
     "name": "stderr",
     "output_type": "stream",
     "text": [
      "Interpolating: 100%|██████████████████████████████████████████████████████████████████████████████████████[00:12<00:00]\n"
     ]
    },
    {
     "data": {
      "text/html": [
       "<table><tr><th>Header</th><th>Data Arrays</th></tr><tr><td>\n",
       "<table>\n",
       "<tr><th>UnstructuredGrid</th><th>Information</th></tr>\n",
       "<tr><td>N Cells</td><td>1004477</td></tr>\n",
       "<tr><td>N Points</td><td>1185213</td></tr>\n",
       "<tr><td>X Bounds</td><td>-1.850e-01, 1.850e-01</td></tr>\n",
       "<tr><td>Y Bounds</td><td>-1.850e-01, 1.850e-01</td></tr>\n",
       "<tr><td>Z Bounds</td><td>-9.250e-02, 4.039e-01</td></tr>\n",
       "<tr><td>N Arrays</td><td>5</td></tr>\n",
       "</table>\n",
       "\n",
       "</td><td>\n",
       "<table>\n",
       "<tr><th>Name</th><th>Field</th><th>Type</th><th>N Comp</th><th>Min</th><th>Max</th></tr>\n",
       "<tr><td>epsilon</td><td>Cells</td><td>float32</td><td>1</td><td>0.000e+00</td><td>7.301e+00</td></tr>\n",
       "<tr><td>U</td><td>Cells</td><td>float32</td><td>3</td><td>-9.084e-01</td><td>8.596e-01</td></tr>\n",
       "<tr><td>mag(U)</td><td>Cells</td><td>float32</td><td>1</td><td>0.000e+00</td><td>9.413e-01</td></tr>\n",
       "<tr><td>k</td><td>Cells</td><td>float32</td><td>1</td><td>0.000e+00</td><td>5.608e-02</td></tr>\n",
       "<tr><td><b>strainRate</b></td><td>Cells</td><td>float32</td><td>1</td><td>0.000e+00</td><td>8.072e+02</td></tr>\n",
       "</table>\n",
       "\n",
       "</td></tr> </table>"
      ],
      "text/plain": [
       "UnstructuredGrid (0x216efa28040)\n",
       "  N Cells:\t1004477\n",
       "  N Points:\t1185213\n",
       "  X Bounds:\t-1.850e-01, 1.850e-01\n",
       "  Y Bounds:\t-1.850e-01, 1.850e-01\n",
       "  Z Bounds:\t-9.250e-02, 4.039e-01\n",
       "  N Arrays:\t5"
      ]
     },
     "execution_count": 190,
     "metadata": {},
     "output_type": "execute_result"
    }
   ],
   "source": [
    "interp_mesh_v8 = largest_mesh.interpolate(target_mesh, radius = 0.0073, progress_bar = True)\n",
    "interp_mesh_v8=interp_mesh_v8.point_data_to_cell_data()\n",
    "interp_mesh_v8"
   ]
  },
  {
   "cell_type": "code",
   "execution_count": 191,
   "id": "944fb8fc",
   "metadata": {},
   "outputs": [
    {
     "data": {
      "application/vnd.jupyter.widget-view+json": {
       "model_id": "1999ed0fd8e1429cbfbc05a51b309455",
       "version_major": 2,
       "version_minor": 0
      },
      "text/plain": [
       "ViewInteractiveWidget(height=768, layout=Layout(height='auto', width='100%'), width=1024)"
      ]
     },
     "metadata": {},
     "output_type": "display_data"
    }
   ],
   "source": [
    "pl = pv.Plotter()\n",
    "pl.set_background('white')\n",
    "pl.add_mesh(interp_mesh_v8.slice(normal='y'),scalars=\"mag(U)\",clim=[1e-3,1],scalar_bar_args={'color':'black'})\n",
    "pl.view_xz()\n",
    "pl.show()"
   ]
  },
  {
   "cell_type": "markdown",
   "id": "87c0a314",
   "metadata": {},
   "source": [
    "### Code snippet to calculate regression metrics"
   ]
  },
  {
   "cell_type": "code",
   "execution_count": 70,
   "id": "1c3414d2",
   "metadata": {},
   "outputs": [],
   "source": [
    "#Store all the regression metrics in tabular format\n",
    "def calc_regression_metrics(target_mesh,interp_mesh,true_idx,radius):\n",
    "    \n",
    "    df_metrics=pd.DataFrame(index=[\"R2_score\",\"MSE\",\"RMSE\",\"MAE\"])\n",
    "    \n",
    "    for field in fields:\n",
    "        if field == 'U':\n",
    "            for i in range(3):\n",
    "                true_values=np.round(target_mesh[f\"{field}\"][:,i],4)\n",
    "                pred_values=np.round(interp_mesh[f\"{field}\"][true_idx][:,i],4)\n",
    "\n",
    "                r2_score_value=r2_score(true_values,pred_values)\n",
    "                mse_value=mean_squared_error(true_values,pred_values)\n",
    "                rmse_value=root_mean_squared_error(true_values,pred_values)\n",
    "                mae_value=mean_absolute_error(true_values,pred_values)\n",
    "\n",
    "                df_metrics[f\"{field}_{i}\"]=[r2_score_value,mse_value,rmse_value,mae_value]\n",
    "\n",
    "        true_values=np.round(target_mesh[f\"{field}\"],4)\n",
    "        #print(true_values.shape)\n",
    "        pred_values=np.round(interp_mesh[f\"{field}\"][true_idx],4)\n",
    "        #print(pred_values.shape)\n",
    "                \n",
    "        r2_score_value=r2_score(true_values,pred_values)\n",
    "        mse_value=mean_squared_error(true_values,pred_values)\n",
    "        rmse_value=root_mean_squared_error(true_values,pred_values)\n",
    "        mae_value=mean_absolute_error(true_values,pred_values)\n",
    "        \n",
    "        df_metrics[f\"{field}\"]=[r2_score_value,mse_value,rmse_value,mae_value]\n",
    "        \n",
    "        df_metrics.to_excel(f\"Regression_mterics_with_radius_{radius}.xlsx\")"
   ]
  },
  {
   "cell_type": "code",
   "execution_count": 71,
   "id": "cb5cc923",
   "metadata": {},
   "outputs": [
    {
     "data": {
      "text/plain": [
       "(832347, 3)"
      ]
     },
     "execution_count": 71,
     "metadata": {},
     "output_type": "execute_result"
    }
   ],
   "source": [
    "target_mesh_copy=target_mesh.copy()\n",
    "target_mesh_copy=target_mesh_copy.point_data_to_cell_data()\n",
    "target_mesh_copy.cell_centers().points.shape"
   ]
  },
  {
   "cell_type": "code",
   "execution_count": 148,
   "id": "11d9ea85",
   "metadata": {},
   "outputs": [
    {
     "name": "stdout",
     "output_type": "stream",
     "text": [
      "(832347,)\n"
     ]
    }
   ],
   "source": [
    "idx=interp_mesh.find_containing_cell(target_mesh_copy.cell_centers().points)\n",
    "print(idx.shape)\n",
    "radius=0.001\n",
    "\n",
    "calc_regression_metrics(target_mesh_copy,interp_mesh,idx,f\"{radius}\")"
   ]
  },
  {
   "cell_type": "code",
   "execution_count": 152,
   "id": "60551d43",
   "metadata": {},
   "outputs": [
    {
     "data": {
      "text/plain": [
       "array([    71,    127,    128, ..., 832339, 832340, 832341], dtype=int64)"
      ]
     },
     "execution_count": 152,
     "metadata": {},
     "output_type": "execute_result"
    }
   ],
   "source": [
    "mismatch_indices=np.where(interp_mesh[\"mag(U)\"][idx]!=target_mesh_copy[\"mag(U)\"])\n",
    "mismatch_indices[0]"
   ]
  },
  {
   "cell_type": "code",
   "execution_count": 153,
   "id": "187c3bc1",
   "metadata": {},
   "outputs": [
    {
     "data": {
      "text/plain": [
       "pyvista_ndarray([0.21905002, 0.22270617, 0.22270711, ..., 0.4389211 ,\n",
       "                 0.42003384, 0.42939174], dtype=float32)"
      ]
     },
     "execution_count": 153,
     "metadata": {},
     "output_type": "execute_result"
    }
   ],
   "source": [
    "target_mesh_copy[\"mag(U)\"][mismatch_indices[0]]"
   ]
  },
  {
   "cell_type": "code",
   "execution_count": 155,
   "id": "e18ec6af",
   "metadata": {},
   "outputs": [
    {
     "data": {
      "text/plain": [
       "pyvista_ndarray([0.25954586, 0.23841754, 0.25752276, ..., 0.2346508 ,\n",
       "                 0.22842461, 0.22580338], dtype=float32)"
      ]
     },
     "execution_count": 155,
     "metadata": {},
     "output_type": "execute_result"
    }
   ],
   "source": [
    "interp_mesh[\"mag(U)\"][mismatch_indices[0]]"
   ]
  },
  {
   "cell_type": "code",
   "execution_count": 77,
   "id": "49b30554",
   "metadata": {},
   "outputs": [
    {
     "name": "stdout",
     "output_type": "stream",
     "text": [
      "(832347,)\n"
     ]
    }
   ],
   "source": [
    "idx=interp_mesh_v2.find_containing_cell(target_mesh_copy.cell_centers().points)\n",
    "print(idx.shape)\n",
    "radius=0.0155\n",
    "\n",
    "calc_regression_metrics(target_mesh_copy,interp_mesh_v2,idx,f\"{radius}\")"
   ]
  },
  {
   "cell_type": "code",
   "execution_count": 78,
   "id": "960d69b2",
   "metadata": {},
   "outputs": [
    {
     "name": "stdout",
     "output_type": "stream",
     "text": [
      "(832347,)\n"
     ]
    }
   ],
   "source": [
    "idx=interp_mesh_v3.find_containing_cell(target_mesh_copy.cell_centers().points)\n",
    "print(idx.shape)\n",
    "radius=0.0311\n",
    "\n",
    "calc_regression_metrics(target_mesh_copy,interp_mesh_v3,idx,f\"{radius}\")"
   ]
  },
  {
   "cell_type": "code",
   "execution_count": 79,
   "id": "4e274db0",
   "metadata": {},
   "outputs": [
    {
     "name": "stdout",
     "output_type": "stream",
     "text": [
      "(832347,)\n"
     ]
    }
   ],
   "source": [
    "idx=interp_mesh_v4.find_containing_cell(target_mesh_copy.cell_centers().points)\n",
    "print(idx.shape)\n",
    "radius=0.05\n",
    "\n",
    "calc_regression_metrics(target_mesh_copy,interp_mesh_v4,idx,f\"{radius}\")"
   ]
  },
  {
   "cell_type": "code",
   "execution_count": 119,
   "id": "af5a6862",
   "metadata": {},
   "outputs": [
    {
     "name": "stdout",
     "output_type": "stream",
     "text": [
      "(832347,)\n"
     ]
    }
   ],
   "source": [
    "idx=interp_mesh_v5.find_containing_cell(target_mesh_copy.cell_centers().points)\n",
    "print(idx.shape)\n",
    "radius=0.008\n",
    "\n",
    "calc_regression_metrics(target_mesh_copy,interp_mesh_v5,idx,f\"{radius}\")"
   ]
  },
  {
   "cell_type": "code",
   "execution_count": 143,
   "id": "7c14b734",
   "metadata": {},
   "outputs": [
    {
     "name": "stdout",
     "output_type": "stream",
     "text": [
      "(832347,)\n"
     ]
    }
   ],
   "source": [
    "idx=interp_mesh_v6.find_containing_cell(target_mesh_copy.cell_centers().points)\n",
    "print(idx.shape)\n",
    "radius=0.0015\n",
    "\n",
    "calc_regression_metrics(target_mesh_copy,interp_mesh_v6,idx,f\"{radius}\")"
   ]
  },
  {
   "cell_type": "code",
   "execution_count": 183,
   "id": "fd4c5432",
   "metadata": {},
   "outputs": [
    {
     "name": "stdout",
     "output_type": "stream",
     "text": [
      "(832347,)\n"
     ]
    }
   ],
   "source": [
    "idx=interp_mesh_v7.find_containing_cell(target_mesh_copy.cell_centers().points)\n",
    "print(idx.shape)\n",
    "radius=0.0075\n",
    "\n",
    "calc_regression_metrics(target_mesh_copy,interp_mesh_v7,idx,f\"{radius}\")"
   ]
  },
  {
   "cell_type": "code",
   "execution_count": 194,
   "id": "74f80993",
   "metadata": {},
   "outputs": [
    {
     "data": {
      "application/vnd.jupyter.widget-view+json": {
       "model_id": "6c4fdb49fb11486eb4bbb3c5bf14498f",
       "version_major": 2,
       "version_minor": 0
      },
      "text/plain": [
       "ViewInteractiveWidget(height=768, layout=Layout(height='auto', width='100%'), width=1024)"
      ]
     },
     "metadata": {},
     "output_type": "display_data"
    }
   ],
   "source": [
    "# Visualizing how true mesh looks like\n",
    "pl = pv.Plotter()\n",
    "pl.set_background('white')\n",
    "pl.add_mesh(target_mesh_copy.slice(normal='y'),scalars=\"mag(U)\",clim=[1e-3,1],scalar_bar_args={'color':'black'})\n",
    "pl.view_xz()\n",
    "pl.show()"
   ]
  },
  {
   "cell_type": "code",
   "execution_count": 203,
   "id": "07fa64e0",
   "metadata": {},
   "outputs": [
    {
     "name": "stdout",
     "output_type": "stream",
     "text": [
      "28.017292022705078\n"
     ]
    }
   ],
   "source": [
    "# Superimpose the interpolated points at idx\n",
    "import time\n",
    "\n",
    "start=time.time()\n",
    "idx_v2=interp_mesh_v2.find_containing_cell(target_mesh_copy.cell_centers().points)\n",
    "true_idx=target_mesh_copy.find_containing_cell(target_mesh_copy.cell_centers().points)\n",
    "\n",
    "interp_mesh_v2_copy=interp_mesh_v2.copy()\n",
    "interp_mesh_v2_copy.clear_data()\n",
    "\n",
    "for field in ['strainRate', 'epsilon', 'k', 'U', 'mag(U)']:\n",
    "    #Get the flow field data of both meshes\n",
    "    interp_field=interp_mesh_v2[field]\n",
    "    true_field=target_mesh_copy[field]\n",
    "    \n",
    "    interp_field[idx_v2]=true_field[true_idx]\n",
    "    \n",
    "    interp_mesh_v2_copy[field]=interp_field\n",
    "    \n",
    "end=time.time()\n",
    "print(end-start)"
   ]
  },
  {
   "cell_type": "code",
   "execution_count": 204,
   "id": "7278fbd8",
   "metadata": {},
   "outputs": [
    {
     "data": {
      "application/vnd.jupyter.widget-view+json": {
       "model_id": "83f4a01dad8f481a95eb02f7bf8b411f",
       "version_major": 2,
       "version_minor": 0
      },
      "text/plain": [
       "ViewInteractiveWidget(height=768, layout=Layout(height='auto', width='100%'), width=1024)"
      ]
     },
     "metadata": {},
     "output_type": "display_data"
    }
   ],
   "source": [
    "# Visualizing how true mesh looks like\n",
    "pl = pv.Plotter()\n",
    "pl.set_background('white')\n",
    "pl.add_mesh(interp_mesh_v2_copy.slice(normal='y'),scalars=\"mag(U)\",clim=[1e-3,1],scalar_bar_args={'color':'black'})\n",
    "pl.view_xz()\n",
    "pl.show()"
   ]
  },
  {
   "cell_type": "code",
   "execution_count": null,
   "id": "e0ca3314",
   "metadata": {},
   "outputs": [],
   "source": []
  },
  {
   "cell_type": "code",
   "execution_count": null,
   "id": "3ecf1bfc",
   "metadata": {},
   "outputs": [],
   "source": []
  },
  {
   "cell_type": "code",
   "execution_count": 130,
   "id": "62237350",
   "metadata": {},
   "outputs": [
    {
     "data": {
      "text/plain": [
       "(832347, 3)"
      ]
     },
     "execution_count": 130,
     "metadata": {},
     "output_type": "execute_result"
    }
   ],
   "source": [
    "target_mesh_copy=target_mesh.copy()\n",
    "target_mesh_copy=target_mesh_copy.point_data_to_cell_data()\n",
    "target_mesh_copy.cell_centers().points.shape"
   ]
  },
  {
   "cell_type": "code",
   "execution_count": 140,
   "id": "d73399a4",
   "metadata": {},
   "outputs": [
    {
     "data": {
      "text/plain": [
       "pyvista_ndarray([[-0.12123248,  0.06537949, -0.0618345 ],\n",
       "                 [-0.11858802,  0.06511667, -0.06201188],\n",
       "                 [-0.12141301,  0.06234978, -0.0621354 ],\n",
       "                 ...,\n",
       "                 [ 0.00842871, -0.00330752,  0.21588929],\n",
       "                 [ 0.0056474 , -0.00188564,  0.21593234],\n",
       "                 [ 0.00706866, -0.00196502,  0.2158997 ]])"
      ]
     },
     "execution_count": 140,
     "metadata": {},
     "output_type": "execute_result"
    }
   ],
   "source": [
    "target_mesh_copy.cell_centers().points"
   ]
  },
  {
   "cell_type": "code",
   "execution_count": 123,
   "id": "83206420",
   "metadata": {},
   "outputs": [],
   "source": [
    "idx=interp_mesh.find_containing_cell(target_mesh_copy.cell_centers().points)"
   ]
  },
  {
   "cell_type": "code",
   "execution_count": 124,
   "id": "8655c8cf",
   "metadata": {},
   "outputs": [
    {
     "data": {
      "text/plain": [
       "array([ 63788,  63755,  56533, ..., 856996, 872414, 872418])"
      ]
     },
     "execution_count": 124,
     "metadata": {},
     "output_type": "execute_result"
    }
   ],
   "source": [
    "idx"
   ]
  },
  {
   "cell_type": "code",
   "execution_count": 125,
   "id": "b89ef0f7",
   "metadata": {},
   "outputs": [
    {
     "data": {
      "text/plain": [
       "pyvista_ndarray([[-0.12123248,  0.06537949, -0.06183436],\n",
       "                 [-0.11858785,  0.06511658, -0.0620116 ],\n",
       "                 [-0.12141301,  0.06234973, -0.06213525],\n",
       "                 ...,\n",
       "                 [ 0.00842869, -0.00330725,  0.21588931],\n",
       "                 [ 0.00564739, -0.00188563,  0.21593236],\n",
       "                 [ 0.00706863, -0.00196496,  0.21589972]])"
      ]
     },
     "execution_count": 125,
     "metadata": {},
     "output_type": "execute_result"
    }
   ],
   "source": [
    "interp_mesh_v5.cell_centers().points[idx]"
   ]
  },
  {
   "cell_type": "code",
   "execution_count": 126,
   "id": "6f9cce0c",
   "metadata": {},
   "outputs": [
    {
     "data": {
      "text/plain": [
       "(832347,)"
      ]
     },
     "execution_count": 126,
     "metadata": {},
     "output_type": "execute_result"
    }
   ],
   "source": [
    "idx.shape"
   ]
  },
  {
   "cell_type": "code",
   "execution_count": 136,
   "id": "167e8833",
   "metadata": {},
   "outputs": [
    {
     "data": {
      "text/plain": [
       "(832347,)"
      ]
     },
     "execution_count": 136,
     "metadata": {},
     "output_type": "execute_result"
    }
   ],
   "source": [
    "interp_values=interp_mesh[\"strainRate\"][idx]\n",
    "interp_values.shape"
   ]
  },
  {
   "cell_type": "code",
   "execution_count": 137,
   "id": "2924713b",
   "metadata": {},
   "outputs": [
    {
     "data": {
      "text/plain": [
       "pyvista_ndarray([15.804449, 14.031167, 17.393091, ..., 12.605095,\n",
       "                 14.106081, 13.348893], dtype=float32)"
      ]
     },
     "execution_count": 137,
     "metadata": {},
     "output_type": "execute_result"
    }
   ],
   "source": [
    "interp_values"
   ]
  },
  {
   "cell_type": "code",
   "execution_count": 138,
   "id": "6e0bf1ee",
   "metadata": {},
   "outputs": [
    {
     "data": {
      "text/plain": [
       "pyvista_ndarray([15.804449, 14.031167, 17.393091, ..., 12.605095,\n",
       "                 14.106081, 13.348893], dtype=float32)"
      ]
     },
     "execution_count": 138,
     "metadata": {},
     "output_type": "execute_result"
    }
   ],
   "source": [
    "target_mesh_copy[\"strainRate\"]"
   ]
  },
  {
   "cell_type": "code",
   "execution_count": null,
   "id": "a4c433bf",
   "metadata": {},
   "outputs": [],
   "source": [
    "target_mesh_copy[\"strainRate\"]"
   ]
  },
  {
   "cell_type": "code",
   "execution_count": 139,
   "id": "9f4e604f",
   "metadata": {},
   "outputs": [
    {
     "data": {
      "text/plain": [
       "(0.9979174334607773, 2.307113, 1.5189184, 0.12630153)"
      ]
     },
     "execution_count": 139,
     "metadata": {},
     "output_type": "execute_result"
    }
   ],
   "source": [
    "true_values= target_mesh_copy[\"strainRate\"]\n",
    "pred_values=interp_mesh[\"strainRate\"][idx]\n",
    "\n",
    "r2_score_value=r2_score(true_values,pred_values)\n",
    "mse_value=mean_squared_error(true_values,pred_values)\n",
    "rmse_value=root_mean_squared_error(true_values,pred_values)\n",
    "mae_value=mean_absolute_error(true_values,pred_values)\n",
    "(r2_score_value,mse_value,rmse_value,mae_value)"
   ]
  },
  {
   "cell_type": "code",
   "execution_count": null,
   "id": "4d4f6676",
   "metadata": {},
   "outputs": [],
   "source": []
  }
 ],
 "metadata": {
  "kernelspec": {
   "display_name": "Python 3 (ipykernel)",
   "language": "python",
   "name": "python3"
  },
  "language_info": {
   "codemirror_mode": {
    "name": "ipython",
    "version": 3
   },
   "file_extension": ".py",
   "mimetype": "text/x-python",
   "name": "python",
   "nbconvert_exporter": "python",
   "pygments_lexer": "ipython3",
   "version": "3.9.15"
  }
 },
 "nbformat": 4,
 "nbformat_minor": 5
}
