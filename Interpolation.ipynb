{
 "cells": [
  {
   "cell_type": "markdown",
   "id": "d021532e",
   "metadata": {},
   "source": [
    "### Objective:\n",
    "- To explore interpolation error at different values of radius.\n",
    "- Select the radius for interpolation purpose keeping a balance between interpolation error and no gaps are created in flow fields across the geometry.\n",
    "-  Patches indicate incomplete or missing interpolated data. This can happen if the radius used for interpolation is too small to cover all necessary points or cells in certain regions. When the radius is too small, not enough neighboring points are included in the interpolation process, leading to areas with incomplete coverage or \"gaps.\""
   ]
  },
  {
   "cell_type": "markdown",
   "id": "113817bd",
   "metadata": {},
   "source": [
    "### Import all necessary libraries"
   ]
  },
  {
   "cell_type": "code",
   "execution_count": 1,
   "id": "6901b345",
   "metadata": {},
   "outputs": [],
   "source": [
    "import pyvista as pv\n",
    "import os\n",
    "import pandas as pd\n",
    "from sklearn.metrics import mean_squared_error,root_mean_squared_error,r2_score,mean_absolute_error,accuracy_score\n",
    "import numpy as np"
   ]
  },
  {
   "cell_type": "markdown",
   "id": "1573dac3",
   "metadata": {},
   "source": [
    "### Define the function for reading any mesh data"
   ]
  },
  {
   "cell_type": "code",
   "execution_count": 2,
   "id": "3b44b3a7",
   "metadata": {},
   "outputs": [],
   "source": [
    "#Check if foam file exists or not\n",
    "def _get_foam_file(file_path):\n",
    "    for file in os.listdir(file_path):\n",
    "        if file.endswith('.foam'):\n",
    "            return os.path.join(file_path, file)\n",
    "\n",
    "#Read mesh data using pyvista open foam reader\n",
    "def _read_mesh_data(work_dir):\n",
    "\n",
    "    reader = pv.OpenFOAMReader(_get_foam_file(work_dir))\n",
    "    last_time_step = int(reader.time_values[-1])\n",
    "    reader.set_active_time_value(last_time_step)\n",
    "    # reader.cell_to_point_creation = False\n",
    "\n",
    "    internal_mesh = reader.read()[\"internalMesh\"]\n",
    "    boundaries = reader.read()[\"boundary\"]\n",
    "\n",
    "    internal_mesh.work_dir = work_dir\n",
    "    internal_mesh.active_time_value = last_time_step\n",
    "\n",
    "    return internal_mesh, boundaries\n",
    "\n",
    "#Store the selected flow fields in the mesh\n",
    "def _select_only_relevant_field_data(pvObject, fields):\n",
    "\n",
    "    pvCopy = pvObject.copy()\n",
    "    pvCopy.clear_data()\n",
    "    for field in fields:\n",
    "        if field in pvObject.array_names:\n",
    "            pvCopy[field] = pvObject[field]\n",
    "    \n",
    "    pvCopy = pvCopy.cell_data_to_point_data() #converting cell data to point data\n",
    "    return pvCopy\n",
    "\n",
    "fields = ['epsilon', 'U', 'mag(U)','k', 'strainRate']"
   ]
  },
  {
   "cell_type": "markdown",
   "id": "1021da8b",
   "metadata": {},
   "source": [
    "### Read the largest geometry mesh"
   ]
  },
  {
   "cell_type": "code",
   "execution_count": 3,
   "id": "c60605de",
   "metadata": {},
   "outputs": [
    {
     "data": {
      "text/html": [
       "\n",
       "<table>\n",
       "<tr><th>UnstructuredGrid</th><th>Information</th></tr>\n",
       "<tr><td>N Cells</td><td>1004477</td></tr>\n",
       "<tr><td>N Points</td><td>1185213</td></tr>\n",
       "<tr><td>X Bounds</td><td>-1.850e-01, 1.850e-01</td></tr>\n",
       "<tr><td>Y Bounds</td><td>-1.850e-01, 1.850e-01</td></tr>\n",
       "<tr><td>Z Bounds</td><td>-9.250e-02, 4.039e-01</td></tr>\n",
       "<tr><td>N Arrays</td><td>0</td></tr>\n",
       "</table>\n",
       "\n"
      ],
      "text/plain": [
       "UnstructuredGrid (0x20f413c70a0)\n",
       "  N Cells:\t1004477\n",
       "  N Points:\t1185213\n",
       "  X Bounds:\t-1.850e-01, 1.850e-01\n",
       "  Y Bounds:\t-1.850e-01, 1.850e-01\n",
       "  Z Bounds:\t-9.250e-02, 4.039e-01\n",
       "  N Arrays:\t0"
      ]
     },
     "execution_count": 3,
     "metadata": {},
     "output_type": "execute_result"
    }
   ],
   "source": [
    "largest_mesh_dir=r\"D:\\GPOD ANN Sartorius BioStat 50L 30 degrees removed geoms modified v4\\Sartorius BioStat 50L\\BIOSTAT_50L_Run_41\"\n",
    "largest_mesh,_=_read_mesh_data(largest_mesh_dir)\n",
    "largest_mesh.clear_data()\n",
    "largest_mesh"
   ]
  },
  {
   "cell_type": "markdown",
   "id": "18a8d2d6",
   "metadata": {},
   "source": [
    "### Read the target mesh that is to be interpolated"
   ]
  },
  {
   "cell_type": "code",
   "execution_count": 5,
   "id": "f74ca49e",
   "metadata": {},
   "outputs": [
    {
     "data": {
      "text/html": [
       "<table><tr><th>Header</th><th>Data Arrays</th></tr><tr><td>\n",
       "<table>\n",
       "<tr><th>UnstructuredGrid</th><th>Information</th></tr>\n",
       "<tr><td>N Cells</td><td>810203</td></tr>\n",
       "<tr><td>N Points</td><td>950115</td></tr>\n",
       "<tr><td>X Bounds</td><td>-1.850e-01, 1.850e-01</td></tr>\n",
       "<tr><td>Y Bounds</td><td>-1.850e-01, 1.850e-01</td></tr>\n",
       "<tr><td>Z Bounds</td><td>-9.250e-02, 2.220e-01</td></tr>\n",
       "<tr><td>N Arrays</td><td>5</td></tr>\n",
       "</table>\n",
       "\n",
       "</td><td>\n",
       "<table>\n",
       "<tr><th>Name</th><th>Field</th><th>Type</th><th>N Comp</th><th>Min</th><th>Max</th></tr>\n",
       "<tr><td>epsilon</td><td>Points</td><td>float32</td><td>1</td><td>6.858e-04</td><td>4.240e+01</td></tr>\n",
       "<tr><td>U</td><td>Points</td><td>float32</td><td>3</td><td>-1.031e+00</td><td>9.833e-01</td></tr>\n",
       "<tr><td>mag(U)</td><td>Points</td><td>float32</td><td>1</td><td>6.458e-03</td><td>1.089e+00</td></tr>\n",
       "<tr><td>k</td><td>Points</td><td>float32</td><td>1</td><td>2.041e-04</td><td>7.771e-02</td></tr>\n",
       "<tr><td><b>strainRate</b></td><td>Points</td><td>float32</td><td>1</td><td>0.000e+00</td><td>2.004e+03</td></tr>\n",
       "</table>\n",
       "\n",
       "</td></tr> </table>"
      ],
      "text/plain": [
       "UnstructuredGrid (0x20f413c7ac0)\n",
       "  N Cells:\t810203\n",
       "  N Points:\t950115\n",
       "  X Bounds:\t-1.850e-01, 1.850e-01\n",
       "  Y Bounds:\t-1.850e-01, 1.850e-01\n",
       "  Z Bounds:\t-9.250e-02, 2.220e-01\n",
       "  N Arrays:\t5"
      ]
     },
     "execution_count": 5,
     "metadata": {},
     "output_type": "execute_result"
    }
   ],
   "source": [
    "target_mesh_dir=r\"D:\\GPOD ANN Sartorius BioStat 50L 30 degrees removed geoms modified v4\\Sartorius BioStat 50L\\BIOSTAT_50L_Run_06\"\n",
    "internal_mesh,_=_read_mesh_data(target_mesh_dir)\n",
    "target_mesh=_select_only_relevant_field_data(internal_mesh, fields)\n",
    "target_mesh"
   ]
  },
  {
   "cell_type": "markdown",
   "id": "2ad5dc0b",
   "metadata": {},
   "source": [
    "Note: The X bounds, Y bounds and Z bounds are for the entire UnstructuredGrid object. They define the overall spatial extent of the whole mesh, encompassing all cells and points within it."
   ]
  },
  {
   "cell_type": "markdown",
   "id": "57e7e2b0",
   "metadata": {},
   "source": [
    "### Interpolate the target mesh against largest geometry with radius=0.001"
   ]
  },
  {
   "cell_type": "code",
   "execution_count": 6,
   "id": "6f872cd6",
   "metadata": {},
   "outputs": [
    {
     "name": "stderr",
     "output_type": "stream",
     "text": [
      "Interpolating: 100%|██████████████████████████████████████████████████████████████████████████████████████[00:00<00:00]\n"
     ]
    }
   ],
   "source": [
    "interp_mesh = largest_mesh.interpolate(target_mesh, radius = 1e-3, progress_bar = True)"
   ]
  },
  {
   "cell_type": "code",
   "execution_count": 7,
   "id": "7b69ea44",
   "metadata": {},
   "outputs": [
    {
     "data": {
      "text/html": [
       "<table><tr><th>Header</th><th>Data Arrays</th></tr><tr><td>\n",
       "<table>\n",
       "<tr><th>UnstructuredGrid</th><th>Information</th></tr>\n",
       "<tr><td>N Cells</td><td>1004477</td></tr>\n",
       "<tr><td>N Points</td><td>1185213</td></tr>\n",
       "<tr><td>X Bounds</td><td>-1.850e-01, 1.850e-01</td></tr>\n",
       "<tr><td>Y Bounds</td><td>-1.850e-01, 1.850e-01</td></tr>\n",
       "<tr><td>Z Bounds</td><td>-9.250e-02, 4.039e-01</td></tr>\n",
       "<tr><td>N Arrays</td><td>5</td></tr>\n",
       "</table>\n",
       "\n",
       "</td><td>\n",
       "<table>\n",
       "<tr><th>Name</th><th>Field</th><th>Type</th><th>N Comp</th><th>Min</th><th>Max</th></tr>\n",
       "<tr><td>epsilon</td><td>Cells</td><td>float32</td><td>1</td><td>0.000e+00</td><td>1.429e+01</td></tr>\n",
       "<tr><td>U</td><td>Cells</td><td>float32</td><td>3</td><td>-1.004e+00</td><td>9.652e-01</td></tr>\n",
       "<tr><td>mag(U)</td><td>Cells</td><td>float32</td><td>1</td><td>0.000e+00</td><td>1.042e+00</td></tr>\n",
       "<tr><td>k</td><td>Cells</td><td>float32</td><td>1</td><td>0.000e+00</td><td>7.295e-02</td></tr>\n",
       "<tr><td><b>strainRate</b></td><td>Cells</td><td>float32</td><td>1</td><td>0.000e+00</td><td>8.767e+02</td></tr>\n",
       "</table>\n",
       "\n",
       "</td></tr> </table>"
      ],
      "text/plain": [
       "UnstructuredGrid (0x20f3b9d5940)\n",
       "  N Cells:\t1004477\n",
       "  N Points:\t1185213\n",
       "  X Bounds:\t-1.850e-01, 1.850e-01\n",
       "  Y Bounds:\t-1.850e-01, 1.850e-01\n",
       "  Z Bounds:\t-9.250e-02, 4.039e-01\n",
       "  N Arrays:\t5"
      ]
     },
     "execution_count": 7,
     "metadata": {},
     "output_type": "execute_result"
    }
   ],
   "source": [
    "interp_mesh = interp_mesh.point_data_to_cell_data()\n",
    "interp_mesh"
   ]
  },
  {
   "cell_type": "code",
   "execution_count": 10,
   "id": "dc2853b4",
   "metadata": {},
   "outputs": [
    {
     "data": {
      "application/vnd.jupyter.widget-view+json": {
       "model_id": "b0cd8b32040644ac95a1cee57f2776cf",
       "version_major": 2,
       "version_minor": 0
      },
      "text/plain": [
       "ViewInteractiveWidget(height=768, layout=Layout(height='auto', width='100%'), width=1024)"
      ]
     },
     "metadata": {},
     "output_type": "display_data"
    }
   ],
   "source": [
    "#Visualizing epsilon,mag(U),k,strainRate flow fields\n",
    "\n",
    "pl = pv.Plotter(shape=(2,2),notebook=True)\n",
    "\n",
    "pl.set_background('white')\n",
    "pl.add_mesh(interp_mesh.slice(normal='y'),scalars=\"mag(U)\",clim=[1e-3,1],scalar_bar_args={'color':'black'},log_scale=True)\n",
    "pl.view_xz()\n",
    "\n",
    "pl.subplot(0,1)\n",
    "pl.add_mesh(interp_mesh.slice(normal='y'),scalars=\"k\",clim=[1e-3,1],scalar_bar_args={'color':'black'},log_scale=True)\n",
    "pl.view_xz()\n",
    "\n",
    "pl.subplot(1,0)\n",
    "pl.add_mesh(interp_mesh.slice(normal='y'),scalars=\"strainRate\",clim=[0.5,100],scalar_bar_args={'color':'black'},log_scale=True)\n",
    "pl.view_xz()\n",
    "\n",
    "pl.subplot(1,1)\n",
    "pl.add_mesh(interp_mesh.slice(normal='y'),scalars=\"epsilon\",clim=[1e-3,1],scalar_bar_args={'color':'black'},log_scale=True)\n",
    "pl.view_xz()\n",
    "\n",
    "pl.show()"
   ]
  },
  {
   "cell_type": "markdown",
   "id": "61be947a",
   "metadata": {},
   "source": [
    "Note: Some patches can be seen in between of the flow fields."
   ]
  },
  {
   "cell_type": "markdown",
   "id": "029b68d7",
   "metadata": {},
   "source": [
    "### Interpolate the target mesh against largest geometry with radius=0.0155"
   ]
  },
  {
   "cell_type": "markdown",
   "id": "faf8d303",
   "metadata": {},
   "source": [
    "Note: The minimum of the three calculated dimensions (X, Y, and Z) is chosen as the radius. This is probably done to ensure that the interpolation uses the smallest spatial extent, which might be relevant for ensuring uniform interpolation across the entire mesh.Finally, the radius is multiplied by 5, likely to scale the interpolation area to cover a broader region around the mesh for interpolation purposes."
   ]
  },
  {
   "cell_type": "code",
   "execution_count": 11,
   "id": "328481fc",
   "metadata": {},
   "outputs": [
    {
     "name": "stdout",
     "output_type": "stream",
     "text": [
      "[0.0035127103328704834, 0.003493204712867737, 0.0031145475804805756]\n",
      "0.015572737902402878\n"
     ]
    }
   ],
   "source": [
    "bounds = target_mesh.extract_cells(1).bounds #extracting the mesh bounds\n",
    "print([bounds[i+1]-bounds[i] for i in [0,2,4]])\n",
    "radius = min([bounds[i+1]-bounds[i] for i in [0,2,4]]) \n",
    "print(radius*5)#defining the radius for interpolation"
   ]
  },
  {
   "cell_type": "code",
   "execution_count": 12,
   "id": "00fede29",
   "metadata": {},
   "outputs": [
    {
     "name": "stderr",
     "output_type": "stream",
     "text": [
      "Interpolating: 100%|██████████████████████████████████████████████████████████████████████████████████████[00:42<00:00]\n"
     ]
    }
   ],
   "source": [
    "interp_mesh_v2 = largest_mesh.interpolate(target_mesh, radius = radius*5, progress_bar = True)\n",
    "interp_mesh_v2 = interp_mesh_v2.point_data_to_cell_data()"
   ]
  },
  {
   "cell_type": "code",
   "execution_count": 13,
   "id": "07ceae7e",
   "metadata": {},
   "outputs": [
    {
     "data": {
      "text/html": [
       "<table><tr><th>Header</th><th>Data Arrays</th></tr><tr><td>\n",
       "<table>\n",
       "<tr><th>UnstructuredGrid</th><th>Information</th></tr>\n",
       "<tr><td>N Cells</td><td>1004477</td></tr>\n",
       "<tr><td>N Points</td><td>1185213</td></tr>\n",
       "<tr><td>X Bounds</td><td>-1.850e-01, 1.850e-01</td></tr>\n",
       "<tr><td>Y Bounds</td><td>-1.850e-01, 1.850e-01</td></tr>\n",
       "<tr><td>Z Bounds</td><td>-9.250e-02, 4.039e-01</td></tr>\n",
       "<tr><td>N Arrays</td><td>5</td></tr>\n",
       "</table>\n",
       "\n",
       "</td><td>\n",
       "<table>\n",
       "<tr><th>Name</th><th>Field</th><th>Type</th><th>N Comp</th><th>Min</th><th>Max</th></tr>\n",
       "<tr><td>epsilon</td><td>Cells</td><td>float32</td><td>1</td><td>0.000e+00</td><td>8.465e+00</td></tr>\n",
       "<tr><td>U</td><td>Cells</td><td>float32</td><td>3</td><td>-1.004e+00</td><td>9.332e-01</td></tr>\n",
       "<tr><td>mag(U)</td><td>Cells</td><td>float32</td><td>1</td><td>0.000e+00</td><td>1.024e+00</td></tr>\n",
       "<tr><td>k</td><td>Cells</td><td>float32</td><td>1</td><td>0.000e+00</td><td>6.324e-02</td></tr>\n",
       "<tr><td><b>strainRate</b></td><td>Cells</td><td>float32</td><td>1</td><td>0.000e+00</td><td>8.612e+02</td></tr>\n",
       "</table>\n",
       "\n",
       "</td></tr> </table>"
      ],
      "text/plain": [
       "UnstructuredGrid (0x20f480fbd60)\n",
       "  N Cells:\t1004477\n",
       "  N Points:\t1185213\n",
       "  X Bounds:\t-1.850e-01, 1.850e-01\n",
       "  Y Bounds:\t-1.850e-01, 1.850e-01\n",
       "  Z Bounds:\t-9.250e-02, 4.039e-01\n",
       "  N Arrays:\t5"
      ]
     },
     "execution_count": 13,
     "metadata": {},
     "output_type": "execute_result"
    }
   ],
   "source": [
    "interp_mesh_v2"
   ]
  },
  {
   "cell_type": "code",
   "execution_count": 15,
   "id": "72fcb5e8",
   "metadata": {},
   "outputs": [
    {
     "data": {
      "application/vnd.jupyter.widget-view+json": {
       "model_id": "8d4a534736774b3ca39e5461509254fd",
       "version_major": 2,
       "version_minor": 0
      },
      "text/plain": [
       "ViewInteractiveWidget(height=768, layout=Layout(height='auto', width='100%'), width=1024)"
      ]
     },
     "metadata": {},
     "output_type": "display_data"
    }
   ],
   "source": [
    "#Visualizing epsilon,mag(U),k,strainRate flow fields\n",
    "\n",
    "pl = pv.Plotter(shape=(2,2),notebook=True)\n",
    "\n",
    "pl.set_background('white')\n",
    "pl.add_mesh(interp_mesh_v2.slice(normal='y'),scalars=\"mag(U)\",clim=[1e-3,1],scalar_bar_args={'color':'black'},log_scale=True)\n",
    "pl.view_xz()\n",
    "\n",
    "pl.subplot(0,1)\n",
    "pl.add_mesh(interp_mesh_v2.slice(normal='y'),scalars=\"k\",clim=[1e-3,1],scalar_bar_args={'color':'black'},log_scale=True)\n",
    "pl.view_xz()\n",
    "\n",
    "pl.subplot(1,0)\n",
    "pl.add_mesh(interp_mesh_v2.slice(normal='y'),scalars=\"strainRate\",clim=[0.5,100],scalar_bar_args={'color':'black'},log_scale=True)\n",
    "pl.view_xz()\n",
    "\n",
    "pl.subplot(1,1)\n",
    "pl.add_mesh(interp_mesh_v2.slice(normal='y'),scalars=\"epsilon\",clim=[1e-3,1],scalar_bar_args={'color':'black'},log_scale=True)\n",
    "pl.view_xz()\n",
    "\n",
    "pl.show()"
   ]
  },
  {
   "cell_type": "markdown",
   "id": "cccd8553",
   "metadata": {},
   "source": [
    "Note: No patch as such can be seen in between the flow fields"
   ]
  },
  {
   "cell_type": "markdown",
   "id": "91d28643",
   "metadata": {},
   "source": [
    "### Interpolate the target mesh against largest geometry with radius=0.0311"
   ]
  },
  {
   "cell_type": "code",
   "execution_count": 16,
   "id": "8756e18d",
   "metadata": {},
   "outputs": [
    {
     "name": "stdout",
     "output_type": "stream",
     "text": [
      "0.031145475804805756\n"
     ]
    }
   ],
   "source": [
    "print(radius*10)"
   ]
  },
  {
   "cell_type": "code",
   "execution_count": 17,
   "id": "284a7774",
   "metadata": {},
   "outputs": [
    {
     "name": "stderr",
     "output_type": "stream",
     "text": [
      "Interpolating: 100%|██████████████████████████████████████████████████████████████████████████████████████[03:41<00:00]\n"
     ]
    }
   ],
   "source": [
    "interp_mesh_v3 = largest_mesh.interpolate(target_mesh, radius = radius*10, progress_bar = True)\n",
    "interp_mesh_v3 = interp_mesh_v3.point_data_to_cell_data()"
   ]
  },
  {
   "cell_type": "code",
   "execution_count": 18,
   "id": "aef63df2",
   "metadata": {},
   "outputs": [
    {
     "data": {
      "text/html": [
       "<table><tr><th>Header</th><th>Data Arrays</th></tr><tr><td>\n",
       "<table>\n",
       "<tr><th>UnstructuredGrid</th><th>Information</th></tr>\n",
       "<tr><td>N Cells</td><td>1004477</td></tr>\n",
       "<tr><td>N Points</td><td>1185213</td></tr>\n",
       "<tr><td>X Bounds</td><td>-1.850e-01, 1.850e-01</td></tr>\n",
       "<tr><td>Y Bounds</td><td>-1.850e-01, 1.850e-01</td></tr>\n",
       "<tr><td>Z Bounds</td><td>-9.250e-02, 4.039e-01</td></tr>\n",
       "<tr><td>N Arrays</td><td>5</td></tr>\n",
       "</table>\n",
       "\n",
       "</td><td>\n",
       "<table>\n",
       "<tr><th>Name</th><th>Field</th><th>Type</th><th>N Comp</th><th>Min</th><th>Max</th></tr>\n",
       "<tr><td>epsilon</td><td>Cells</td><td>float32</td><td>1</td><td>0.000e+00</td><td>8.465e+00</td></tr>\n",
       "<tr><td>U</td><td>Cells</td><td>float32</td><td>3</td><td>-1.004e+00</td><td>9.332e-01</td></tr>\n",
       "<tr><td>mag(U)</td><td>Cells</td><td>float32</td><td>1</td><td>0.000e+00</td><td>1.024e+00</td></tr>\n",
       "<tr><td>k</td><td>Cells</td><td>float32</td><td>1</td><td>0.000e+00</td><td>6.214e-02</td></tr>\n",
       "<tr><td><b>strainRate</b></td><td>Cells</td><td>float32</td><td>1</td><td>0.000e+00</td><td>8.612e+02</td></tr>\n",
       "</table>\n",
       "\n",
       "</td></tr> </table>"
      ],
      "text/plain": [
       "UnstructuredGrid (0x20f480fbf40)\n",
       "  N Cells:\t1004477\n",
       "  N Points:\t1185213\n",
       "  X Bounds:\t-1.850e-01, 1.850e-01\n",
       "  Y Bounds:\t-1.850e-01, 1.850e-01\n",
       "  Z Bounds:\t-9.250e-02, 4.039e-01\n",
       "  N Arrays:\t5"
      ]
     },
     "execution_count": 18,
     "metadata": {},
     "output_type": "execute_result"
    }
   ],
   "source": [
    "interp_mesh_v3"
   ]
  },
  {
   "cell_type": "code",
   "execution_count": 20,
   "id": "41942893",
   "metadata": {
    "scrolled": true
   },
   "outputs": [
    {
     "data": {
      "application/vnd.jupyter.widget-view+json": {
       "model_id": "49b08f339fe642f6a97a4a99b494dff8",
       "version_major": 2,
       "version_minor": 0
      },
      "text/plain": [
       "ViewInteractiveWidget(height=768, layout=Layout(height='auto', width='100%'), width=1024)"
      ]
     },
     "metadata": {},
     "output_type": "display_data"
    }
   ],
   "source": [
    "#Visualizing epsilon,mag(U),k,strainRate flow fields\n",
    "\n",
    "pl = pv.Plotter(shape=(2,2),notebook=True)\n",
    "\n",
    "pl.set_background('white')\n",
    "pl.add_mesh(interp_mesh_v3.slice(normal='y'),scalars=\"mag(U)\",clim=[1e-3,1],scalar_bar_args={'color':'black'},log_scale=True)\n",
    "pl.view_xz()\n",
    "\n",
    "pl.subplot(0,1)\n",
    "pl.add_mesh(interp_mesh_v3.slice(normal='y'),scalars=\"k\",clim=[1e-3,1],scalar_bar_args={'color':'black'},log_scale=True)\n",
    "pl.view_xz()\n",
    "\n",
    "pl.subplot(1,0)\n",
    "pl.add_mesh(interp_mesh_v3.slice(normal='y'),scalars=\"strainRate\",clim=[0.5,100],scalar_bar_args={'color':'black'},log_scale=True)\n",
    "pl.view_xz()\n",
    "\n",
    "pl.subplot(1,1)\n",
    "pl.add_mesh(interp_mesh_v3.slice(normal='y'),scalars=\"epsilon\",clim=[1e-3,1],scalar_bar_args={'color':'black'},log_scale=True)\n",
    "pl.view_xz()\n",
    "\n",
    "pl.show()"
   ]
  },
  {
   "cell_type": "markdown",
   "id": "258478d0",
   "metadata": {},
   "source": [
    "Note: No patch as such can be seen in between the flow fields"
   ]
  },
  {
   "cell_type": "markdown",
   "id": "cae874ff",
   "metadata": {},
   "source": [
    "### Interpolate the target mesh against largest geometry with radius=0.05"
   ]
  },
  {
   "cell_type": "code",
   "execution_count": 21,
   "id": "5579f53c",
   "metadata": {},
   "outputs": [
    {
     "name": "stderr",
     "output_type": "stream",
     "text": [
      "Interpolating: 100%|██████████████████████████████████████████████████████████████████████████████████████[11:34<00:00]\n"
     ]
    }
   ],
   "source": [
    "interp_mesh_v4 = largest_mesh.interpolate(target_mesh, radius = 0.05, progress_bar = True)\n",
    "interp_mesh_v4 = interp_mesh_v4.point_data_to_cell_data()"
   ]
  },
  {
   "cell_type": "code",
   "execution_count": 22,
   "id": "a966e1da",
   "metadata": {},
   "outputs": [
    {
     "data": {
      "text/html": [
       "<table><tr><th>Header</th><th>Data Arrays</th></tr><tr><td>\n",
       "<table>\n",
       "<tr><th>UnstructuredGrid</th><th>Information</th></tr>\n",
       "<tr><td>N Cells</td><td>1004477</td></tr>\n",
       "<tr><td>N Points</td><td>1185213</td></tr>\n",
       "<tr><td>X Bounds</td><td>-1.850e-01, 1.850e-01</td></tr>\n",
       "<tr><td>Y Bounds</td><td>-1.850e-01, 1.850e-01</td></tr>\n",
       "<tr><td>Z Bounds</td><td>-9.250e-02, 4.039e-01</td></tr>\n",
       "<tr><td>N Arrays</td><td>5</td></tr>\n",
       "</table>\n",
       "\n",
       "</td><td>\n",
       "<table>\n",
       "<tr><th>Name</th><th>Field</th><th>Type</th><th>N Comp</th><th>Min</th><th>Max</th></tr>\n",
       "<tr><td>epsilon</td><td>Cells</td><td>float32</td><td>1</td><td>0.000e+00</td><td>8.465e+00</td></tr>\n",
       "<tr><td>U</td><td>Cells</td><td>float32</td><td>3</td><td>-1.004e+00</td><td>9.332e-01</td></tr>\n",
       "<tr><td>mag(U)</td><td>Cells</td><td>float32</td><td>1</td><td>0.000e+00</td><td>1.024e+00</td></tr>\n",
       "<tr><td>k</td><td>Cells</td><td>float32</td><td>1</td><td>0.000e+00</td><td>6.214e-02</td></tr>\n",
       "<tr><td><b>strainRate</b></td><td>Cells</td><td>float32</td><td>1</td><td>0.000e+00</td><td>8.612e+02</td></tr>\n",
       "</table>\n",
       "\n",
       "</td></tr> </table>"
      ],
      "text/plain": [
       "UnstructuredGrid (0x20f4a7537c0)\n",
       "  N Cells:\t1004477\n",
       "  N Points:\t1185213\n",
       "  X Bounds:\t-1.850e-01, 1.850e-01\n",
       "  Y Bounds:\t-1.850e-01, 1.850e-01\n",
       "  Z Bounds:\t-9.250e-02, 4.039e-01\n",
       "  N Arrays:\t5"
      ]
     },
     "execution_count": 22,
     "metadata": {},
     "output_type": "execute_result"
    }
   ],
   "source": [
    "interp_mesh_v4"
   ]
  },
  {
   "cell_type": "code",
   "execution_count": 25,
   "id": "97837979",
   "metadata": {},
   "outputs": [
    {
     "data": {
      "application/vnd.jupyter.widget-view+json": {
       "model_id": "afd922cb103f4318b5e2462141875785",
       "version_major": 2,
       "version_minor": 0
      },
      "text/plain": [
       "ViewInteractiveWidget(height=768, layout=Layout(height='auto', width='100%'), width=1024)"
      ]
     },
     "metadata": {},
     "output_type": "display_data"
    }
   ],
   "source": [
    "#Visualizing epsilon,mag(U),k,strainRate flow fields\n",
    "\n",
    "pl = pv.Plotter(shape=(2,2),notebook=True)\n",
    "\n",
    "pl.set_background('white')\n",
    "pl.add_mesh(interp_mesh_v4.slice(normal='y'),scalars=\"mag(U)\",clim=[1e-3,1],scalar_bar_args={'color':'black'},log_scale=True)\n",
    "pl.view_xz()\n",
    "\n",
    "pl.subplot(0,1)\n",
    "pl.add_mesh(interp_mesh_v4.slice(normal='y'),scalars=\"k\",clim=[1e-3,1],scalar_bar_args={'color':'black'},log_scale=True)\n",
    "pl.view_xz()\n",
    "\n",
    "pl.subplot(1,0)\n",
    "pl.add_mesh(interp_mesh_v4.slice(normal='y'),scalars=\"strainRate\",clim=[0.5,100],scalar_bar_args={'color':'black'},log_scale=True)\n",
    "pl.view_xz()\n",
    "\n",
    "pl.subplot(1,1)\n",
    "pl.add_mesh(interp_mesh_v4.slice(normal='y'),scalars=\"epsilon\",clim=[1e-3,1],scalar_bar_args={'color':'black'},log_scale=True)\n",
    "pl.view_xz()\n",
    "\n",
    "pl.show()"
   ]
  },
  {
   "cell_type": "markdown",
   "id": "97cc018a",
   "metadata": {},
   "source": [
    "Note: A little bit patches can be seen in between the flow fields."
   ]
  },
  {
   "cell_type": "markdown",
   "id": "8facddbe",
   "metadata": {},
   "source": [
    "### Interpolate the target mesh against largest geometry with radius=0.008"
   ]
  },
  {
   "cell_type": "code",
   "execution_count": 26,
   "id": "219de367",
   "metadata": {},
   "outputs": [
    {
     "name": "stderr",
     "output_type": "stream",
     "text": [
      "Interpolating: 100%|██████████████████████████████████████████████████████████████████████████████████████[00:08<00:00]\n"
     ]
    },
    {
     "data": {
      "text/html": [
       "<table><tr><th>Header</th><th>Data Arrays</th></tr><tr><td>\n",
       "<table>\n",
       "<tr><th>UnstructuredGrid</th><th>Information</th></tr>\n",
       "<tr><td>N Cells</td><td>1004477</td></tr>\n",
       "<tr><td>N Points</td><td>1185213</td></tr>\n",
       "<tr><td>X Bounds</td><td>-1.850e-01, 1.850e-01</td></tr>\n",
       "<tr><td>Y Bounds</td><td>-1.850e-01, 1.850e-01</td></tr>\n",
       "<tr><td>Z Bounds</td><td>-9.250e-02, 4.039e-01</td></tr>\n",
       "<tr><td>N Arrays</td><td>5</td></tr>\n",
       "</table>\n",
       "\n",
       "</td><td>\n",
       "<table>\n",
       "<tr><th>Name</th><th>Field</th><th>Type</th><th>N Comp</th><th>Min</th><th>Max</th></tr>\n",
       "<tr><td>epsilon</td><td>Points</td><td>float32</td><td>1</td><td>0.000e+00</td><td>4.240e+01</td></tr>\n",
       "<tr><td>U</td><td>Points</td><td>float32</td><td>3</td><td>-1.031e+00</td><td>9.727e-01</td></tr>\n",
       "<tr><td>mag(U)</td><td>Points</td><td>float32</td><td>1</td><td>0.000e+00</td><td>1.047e+00</td></tr>\n",
       "<tr><td>k</td><td>Points</td><td>float32</td><td>1</td><td>0.000e+00</td><td>7.316e-02</td></tr>\n",
       "<tr><td><b>strainRate</b></td><td>Points</td><td>float32</td><td>1</td><td>0.000e+00</td><td>2.004e+03</td></tr>\n",
       "</table>\n",
       "\n",
       "</td></tr> </table>"
      ],
      "text/plain": [
       "UnstructuredGrid (0x20f7acbbe20)\n",
       "  N Cells:\t1004477\n",
       "  N Points:\t1185213\n",
       "  X Bounds:\t-1.850e-01, 1.850e-01\n",
       "  Y Bounds:\t-1.850e-01, 1.850e-01\n",
       "  Z Bounds:\t-9.250e-02, 4.039e-01\n",
       "  N Arrays:\t5"
      ]
     },
     "execution_count": 26,
     "metadata": {},
     "output_type": "execute_result"
    }
   ],
   "source": [
    "interp_mesh_v5 = largest_mesh.interpolate(target_mesh, radius = 0.008, progress_bar = True)\n",
    "interp_mesh_v5"
   ]
  },
  {
   "cell_type": "code",
   "execution_count": 27,
   "id": "47316a19",
   "metadata": {},
   "outputs": [],
   "source": [
    "interp_mesh_v5 = interp_mesh_v5.point_data_to_cell_data()"
   ]
  },
  {
   "cell_type": "code",
   "execution_count": 30,
   "id": "93e7dc08",
   "metadata": {},
   "outputs": [
    {
     "data": {
      "application/vnd.jupyter.widget-view+json": {
       "model_id": "84cbd3cde381495786b88c1a51473ba5",
       "version_major": 2,
       "version_minor": 0
      },
      "text/plain": [
       "ViewInteractiveWidget(height=768, layout=Layout(height='auto', width='100%'), width=1024)"
      ]
     },
     "metadata": {},
     "output_type": "display_data"
    }
   ],
   "source": [
    "#Visualizing epsilon,mag(U),k,strainRate flow fields\n",
    "\n",
    "pl = pv.Plotter(shape=(2,2),notebook=True)\n",
    "\n",
    "pl.set_background('white')\n",
    "pl.add_mesh(interp_mesh_v5.slice(normal='y'),scalars=\"mag(U)\",clim=[1e-3,1],scalar_bar_args={'color':'black'},log_scale=True)\n",
    "pl.view_xz()\n",
    "\n",
    "pl.subplot(0,1)\n",
    "pl.add_mesh(interp_mesh_v5.slice(normal='y'),scalars=\"k\",clim=[1e-3,1],scalar_bar_args={'color':'black'},log_scale=True)\n",
    "pl.view_xz()\n",
    "\n",
    "pl.subplot(1,0)\n",
    "pl.add_mesh(interp_mesh_v5.slice(normal='y'),scalars=\"strainRate\",clim=[0.5,100],scalar_bar_args={'color':'black'},log_scale=True)\n",
    "pl.view_xz()\n",
    "\n",
    "pl.subplot(1,1)\n",
    "pl.add_mesh(interp_mesh_v5.slice(normal='y'),scalars=\"epsilon\",clim=[1e-3,1],scalar_bar_args={'color':'black'},log_scale=True)\n",
    "pl.view_xz()\n",
    "\n",
    "pl.show()"
   ]
  },
  {
   "cell_type": "markdown",
   "id": "14c54189",
   "metadata": {},
   "source": [
    "Note: No patches can be seen in between the flow fields"
   ]
  },
  {
   "cell_type": "markdown",
   "id": "ef65efee",
   "metadata": {},
   "source": [
    "### Interpolate the target mesh against largest geometry with radius=0.0075"
   ]
  },
  {
   "cell_type": "code",
   "execution_count": 31,
   "id": "21455d98",
   "metadata": {},
   "outputs": [
    {
     "name": "stderr",
     "output_type": "stream",
     "text": [
      "Interpolating: 100%|██████████████████████████████████████████████████████████████████████████████████████[00:07<00:00]\n"
     ]
    },
    {
     "data": {
      "text/html": [
       "<table><tr><th>Header</th><th>Data Arrays</th></tr><tr><td>\n",
       "<table>\n",
       "<tr><th>UnstructuredGrid</th><th>Information</th></tr>\n",
       "<tr><td>N Cells</td><td>1004477</td></tr>\n",
       "<tr><td>N Points</td><td>1185213</td></tr>\n",
       "<tr><td>X Bounds</td><td>-1.850e-01, 1.850e-01</td></tr>\n",
       "<tr><td>Y Bounds</td><td>-1.850e-01, 1.850e-01</td></tr>\n",
       "<tr><td>Z Bounds</td><td>-9.250e-02, 4.039e-01</td></tr>\n",
       "<tr><td>N Arrays</td><td>5</td></tr>\n",
       "</table>\n",
       "\n",
       "</td><td>\n",
       "<table>\n",
       "<tr><th>Name</th><th>Field</th><th>Type</th><th>N Comp</th><th>Min</th><th>Max</th></tr>\n",
       "<tr><td>epsilon</td><td>Cells</td><td>float32</td><td>1</td><td>0.000e+00</td><td>9.095e+00</td></tr>\n",
       "<tr><td>U</td><td>Cells</td><td>float32</td><td>3</td><td>-1.004e+00</td><td>9.332e-01</td></tr>\n",
       "<tr><td>mag(U)</td><td>Cells</td><td>float32</td><td>1</td><td>0.000e+00</td><td>1.024e+00</td></tr>\n",
       "<tr><td>k</td><td>Cells</td><td>float32</td><td>1</td><td>0.000e+00</td><td>6.421e-02</td></tr>\n",
       "<tr><td><b>strainRate</b></td><td>Cells</td><td>float32</td><td>1</td><td>0.000e+00</td><td>8.612e+02</td></tr>\n",
       "</table>\n",
       "\n",
       "</td></tr> </table>"
      ],
      "text/plain": [
       "UnstructuredGrid (0x20f7ad04ac0)\n",
       "  N Cells:\t1004477\n",
       "  N Points:\t1185213\n",
       "  X Bounds:\t-1.850e-01, 1.850e-01\n",
       "  Y Bounds:\t-1.850e-01, 1.850e-01\n",
       "  Z Bounds:\t-9.250e-02, 4.039e-01\n",
       "  N Arrays:\t5"
      ]
     },
     "execution_count": 31,
     "metadata": {},
     "output_type": "execute_result"
    }
   ],
   "source": [
    "interp_mesh_v6 = largest_mesh.interpolate(target_mesh, radius = 0.0075, progress_bar = True)\n",
    "interp_mesh_v6=interp_mesh_v6.point_data_to_cell_data()\n",
    "interp_mesh_v6"
   ]
  },
  {
   "cell_type": "code",
   "execution_count": 33,
   "id": "3be5d13c",
   "metadata": {},
   "outputs": [],
   "source": [
    "#Visualizing epsilon,mag(U),k,strainRate flow fields\n",
    "\n",
    "pl = pv.Plotter(shape=(2,2),notebook=False)\n",
    "\n",
    "pl.set_background('white')\n",
    "pl.add_mesh(interp_mesh_v6.slice(normal='y'),scalars=\"mag(U)\",clim=[1e-3,1],scalar_bar_args={'color':'black'},log_scale=True)\n",
    "pl.view_xz()\n",
    "\n",
    "pl.subplot(0,1)\n",
    "pl.add_mesh(interp_mesh_v6.slice(normal='y'),scalars=\"k\",clim=[1e-3,1],scalar_bar_args={'color':'black'},log_scale=True)\n",
    "pl.view_xz()\n",
    "\n",
    "pl.subplot(1,0)\n",
    "pl.add_mesh(interp_mesh_v6.slice(normal='y'),scalars=\"strainRate\",clim=[0.5,100],scalar_bar_args={'color':'black'},log_scale=True)\n",
    "pl.view_xz()\n",
    "\n",
    "pl.subplot(1,1)\n",
    "pl.add_mesh(interp_mesh_v6.slice(normal='y'),scalars=\"epsilon\",clim=[1e-3,1],scalar_bar_args={'color':'black'},log_scale=True)\n",
    "pl.view_xz()\n",
    "\n",
    "pl.show()"
   ]
  },
  {
   "cell_type": "markdown",
   "id": "0c9eb87e",
   "metadata": {},
   "source": [
    "Note: No patches can be seen in between the flow fields."
   ]
  },
  {
   "cell_type": "markdown",
   "id": "d5574ea8",
   "metadata": {},
   "source": [
    "### Interpolate the target mesh against largest geometry with radius=0.005"
   ]
  },
  {
   "cell_type": "code",
   "execution_count": 34,
   "id": "f04da560",
   "metadata": {},
   "outputs": [
    {
     "name": "stderr",
     "output_type": "stream",
     "text": [
      "Interpolating: 100%|██████████████████████████████████████████████████████████████████████████████████████[00:03<00:00]\n"
     ]
    },
    {
     "data": {
      "text/html": [
       "<table><tr><th>Header</th><th>Data Arrays</th></tr><tr><td>\n",
       "<table>\n",
       "<tr><th>UnstructuredGrid</th><th>Information</th></tr>\n",
       "<tr><td>N Cells</td><td>1004477</td></tr>\n",
       "<tr><td>N Points</td><td>1185213</td></tr>\n",
       "<tr><td>X Bounds</td><td>-1.850e-01, 1.850e-01</td></tr>\n",
       "<tr><td>Y Bounds</td><td>-1.850e-01, 1.850e-01</td></tr>\n",
       "<tr><td>Z Bounds</td><td>-9.250e-02, 4.039e-01</td></tr>\n",
       "<tr><td>N Arrays</td><td>5</td></tr>\n",
       "</table>\n",
       "\n",
       "</td><td>\n",
       "<table>\n",
       "<tr><th>Name</th><th>Field</th><th>Type</th><th>N Comp</th><th>Min</th><th>Max</th></tr>\n",
       "<tr><td>epsilon</td><td>Cells</td><td>float32</td><td>1</td><td>0.000e+00</td><td>1.045e+01</td></tr>\n",
       "<tr><td>U</td><td>Cells</td><td>float32</td><td>3</td><td>-1.004e+00</td><td>9.332e-01</td></tr>\n",
       "<tr><td>mag(U)</td><td>Cells</td><td>float32</td><td>1</td><td>0.000e+00</td><td>1.024e+00</td></tr>\n",
       "<tr><td>k</td><td>Cells</td><td>float32</td><td>1</td><td>0.000e+00</td><td>6.584e-02</td></tr>\n",
       "<tr><td><b>strainRate</b></td><td>Cells</td><td>float32</td><td>1</td><td>0.000e+00</td><td>8.612e+02</td></tr>\n",
       "</table>\n",
       "\n",
       "</td></tr> </table>"
      ],
      "text/plain": [
       "UnstructuredGrid (0x20f7c54ea00)\n",
       "  N Cells:\t1004477\n",
       "  N Points:\t1185213\n",
       "  X Bounds:\t-1.850e-01, 1.850e-01\n",
       "  Y Bounds:\t-1.850e-01, 1.850e-01\n",
       "  Z Bounds:\t-9.250e-02, 4.039e-01\n",
       "  N Arrays:\t5"
      ]
     },
     "execution_count": 34,
     "metadata": {},
     "output_type": "execute_result"
    }
   ],
   "source": [
    "interp_mesh_v7 = largest_mesh.interpolate(target_mesh, radius = 0.005, progress_bar = True)\n",
    "interp_mesh_v7=interp_mesh_v7.point_data_to_cell_data()\n",
    "interp_mesh_v7"
   ]
  },
  {
   "cell_type": "code",
   "execution_count": 37,
   "id": "f40ec20a",
   "metadata": {},
   "outputs": [],
   "source": [
    "#Visualizing epsilon,mag(U),k,strainRate flow fields\n",
    "\n",
    "pl = pv.Plotter(shape=(2,2),notebook=False)\n",
    "\n",
    "pl.set_background('white')\n",
    "pl.add_mesh(interp_mesh_v7.slice(normal='y'),scalars=\"mag(U)\",clim=[1e-3,1],scalar_bar_args={'color':'black'},log_scale=True)\n",
    "pl.view_xz()\n",
    "\n",
    "pl.subplot(0,1)\n",
    "pl.add_mesh(interp_mesh_v7.slice(normal='y'),scalars=\"k\",clim=[1e-3,1],scalar_bar_args={'color':'black'},log_scale=True)\n",
    "pl.view_xz()\n",
    "\n",
    "pl.subplot(1,0)\n",
    "pl.add_mesh(interp_mesh_v7.slice(normal='y'),scalars=\"strainRate\",clim=[0.5,100],scalar_bar_args={'color':'black'},log_scale=True)\n",
    "pl.view_xz()\n",
    "\n",
    "pl.subplot(1,1)\n",
    "pl.add_mesh(interp_mesh_v7.slice(normal='y'),scalars=\"epsilon\",clim=[1e-3,1],scalar_bar_args={'color':'black'},log_scale=True)\n",
    "pl.view_xz()\n",
    "\n",
    "pl.show()"
   ]
  },
  {
   "cell_type": "markdown",
   "id": "d4a387f0",
   "metadata": {},
   "source": [
    "Note: Patches are visible."
   ]
  },
  {
   "cell_type": "markdown",
   "id": "87c0a314",
   "metadata": {},
   "source": [
    "### Code snippet to calculate regression metrics"
   ]
  },
  {
   "cell_type": "code",
   "execution_count": 52,
   "id": "1c3414d2",
   "metadata": {},
   "outputs": [],
   "source": [
    "#Store all the regression metrics in tabular format\n",
    "def calc_regression_metrics(target_mesh, interp_mesh, true_idx, radius, base_folder):\n",
    "    \n",
    "    df_metrics=pd.DataFrame(index=[\"R2_score\",\"MSE\",\"RMSE\",\"MAE\"])\n",
    "    \n",
    "    for field in fields:\n",
    "        if field == 'U':\n",
    "            for i in range(3):\n",
    "                true_values=np.round(target_mesh[f\"{field}\"][:,i],4)\n",
    "                pred_values=np.round(interp_mesh[f\"{field}\"][true_idx][:,i],4)\n",
    "\n",
    "                r2_score_value=r2_score(true_values,pred_values)\n",
    "                mse_value=mean_squared_error(true_values,pred_values)\n",
    "                rmse_value=root_mean_squared_error(true_values,pred_values)\n",
    "                mae_value=mean_absolute_error(true_values,pred_values)\n",
    "\n",
    "                df_metrics[f\"{field}_{i}\"]=[r2_score_value,mse_value,rmse_value,mae_value]\n",
    "\n",
    "        true_values=np.round(target_mesh[f\"{field}\"],4)\n",
    "        #print(true_values.shape)\n",
    "        pred_values=np.round(interp_mesh[f\"{field}\"][true_idx],4)\n",
    "        #print(pred_values.shape)\n",
    "                \n",
    "        r2_score_value=r2_score(true_values,pred_values)\n",
    "        mse_value=mean_squared_error(true_values,pred_values)\n",
    "        rmse_value=root_mean_squared_error(true_values,pred_values)\n",
    "        mae_value=mean_absolute_error(true_values,pred_values)\n",
    "        \n",
    "        df_metrics[f\"{field}\"]=[r2_score_value,mse_value,rmse_value,mae_value]\n",
    "        \n",
    "        # Construct the folder path\n",
    "        folder_path = os.path.join(base_folder, \"Interpolation for different radius\")\n",
    "\n",
    "        # Create the folder if it doesn't exist\n",
    "        os.makedirs(folder_path, exist_ok=True)\n",
    "        \n",
    "        df_metrics.to_excel(folder_path + '\\\\'+ f\"Regression_mterics_with_radius_{radius}.xlsx\")"
   ]
  },
  {
   "cell_type": "code",
   "execution_count": 43,
   "id": "cb5cc923",
   "metadata": {},
   "outputs": [
    {
     "data": {
      "text/plain": [
       "(810203, 3)"
      ]
     },
     "execution_count": 43,
     "metadata": {},
     "output_type": "execute_result"
    }
   ],
   "source": [
    "target_mesh_copy=target_mesh.copy()\n",
    "target_mesh_copy=target_mesh_copy.point_data_to_cell_data()\n",
    "target_mesh_copy.cell_centers().points.shape"
   ]
  },
  {
   "cell_type": "code",
   "execution_count": 44,
   "id": "75ab1c88",
   "metadata": {},
   "outputs": [
    {
     "data": {
      "text/plain": [
       "(810203,)"
      ]
     },
     "execution_count": 44,
     "metadata": {},
     "output_type": "execute_result"
    }
   ],
   "source": [
    "target_mesh_copy[\"mag(U)\"].shape"
   ]
  },
  {
   "cell_type": "code",
   "execution_count": 46,
   "id": "8c4191e2",
   "metadata": {},
   "outputs": [],
   "source": [
    "base_folder=r\"D:\\CFD learning\""
   ]
  },
  {
   "cell_type": "code",
   "execution_count": 53,
   "id": "11d9ea85",
   "metadata": {},
   "outputs": [],
   "source": [
    "idx=interp_mesh.find_containing_cell(target_mesh_copy.cell_centers().points)\n",
    "radius=0.001\n",
    "\n",
    "base_folder=r\"D:\\CFD learning\"\n",
    "calc_regression_metrics(target_mesh_copy,interp_mesh,idx,f\"{radius}\",base_folder)"
   ]
  },
  {
   "cell_type": "code",
   "execution_count": 55,
   "id": "49b30554",
   "metadata": {},
   "outputs": [
    {
     "name": "stdout",
     "output_type": "stream",
     "text": [
      "(810203,)\n"
     ]
    }
   ],
   "source": [
    "idx=interp_mesh_v2.find_containing_cell(target_mesh_copy.cell_centers().points)\n",
    "print(idx.shape)\n",
    "radius=0.0155\n",
    "\n",
    "calc_regression_metrics(target_mesh_copy,interp_mesh_v2,idx,f\"{radius}\",base_folder)"
   ]
  },
  {
   "cell_type": "code",
   "execution_count": 56,
   "id": "960d69b2",
   "metadata": {},
   "outputs": [
    {
     "name": "stdout",
     "output_type": "stream",
     "text": [
      "(810203,)\n"
     ]
    }
   ],
   "source": [
    "idx=interp_mesh_v3.find_containing_cell(target_mesh_copy.cell_centers().points)\n",
    "print(idx.shape)\n",
    "radius=0.0311\n",
    "\n",
    "calc_regression_metrics(target_mesh_copy,interp_mesh_v3,idx,f\"{radius}\", base_folder)"
   ]
  },
  {
   "cell_type": "code",
   "execution_count": 57,
   "id": "4e274db0",
   "metadata": {},
   "outputs": [
    {
     "name": "stdout",
     "output_type": "stream",
     "text": [
      "(810203,)\n"
     ]
    }
   ],
   "source": [
    "idx=interp_mesh_v4.find_containing_cell(target_mesh_copy.cell_centers().points)\n",
    "print(idx.shape)\n",
    "radius=0.05\n",
    "\n",
    "calc_regression_metrics(target_mesh_copy,interp_mesh_v4,idx,f\"{radius}\", base_folder)"
   ]
  },
  {
   "cell_type": "code",
   "execution_count": 58,
   "id": "af5a6862",
   "metadata": {},
   "outputs": [
    {
     "name": "stdout",
     "output_type": "stream",
     "text": [
      "(810203,)\n"
     ]
    }
   ],
   "source": [
    "idx=interp_mesh_v5.find_containing_cell(target_mesh_copy.cell_centers().points)\n",
    "print(idx.shape)\n",
    "radius=0.008\n",
    "\n",
    "calc_regression_metrics(target_mesh_copy,interp_mesh_v5,idx,f\"{radius}\", base_folder)"
   ]
  },
  {
   "cell_type": "code",
   "execution_count": 59,
   "id": "7c14b734",
   "metadata": {},
   "outputs": [
    {
     "name": "stdout",
     "output_type": "stream",
     "text": [
      "(810203,)\n"
     ]
    }
   ],
   "source": [
    "idx=interp_mesh_v6.find_containing_cell(target_mesh_copy.cell_centers().points)\n",
    "print(idx.shape)\n",
    "radius=0.0075\n",
    "\n",
    "calc_regression_metrics(target_mesh_copy,interp_mesh_v6,idx,f\"{radius}\", base_folder)"
   ]
  },
  {
   "cell_type": "code",
   "execution_count": 60,
   "id": "fd4c5432",
   "metadata": {},
   "outputs": [
    {
     "name": "stdout",
     "output_type": "stream",
     "text": [
      "(810203,)\n"
     ]
    }
   ],
   "source": [
    "idx=interp_mesh_v7.find_containing_cell(target_mesh_copy.cell_centers().points)\n",
    "print(idx.shape)\n",
    "radius=0.005\n",
    "\n",
    "calc_regression_metrics(target_mesh_copy,interp_mesh_v7,idx,f\"{radius}\", base_folder)"
   ]
  },
  {
   "cell_type": "markdown",
   "id": "2941b957",
   "metadata": {},
   "source": [
    "### Visualizing how true mesh looks like"
   ]
  },
  {
   "cell_type": "code",
   "execution_count": 61,
   "id": "74f80993",
   "metadata": {},
   "outputs": [
    {
     "data": {
      "application/vnd.jupyter.widget-view+json": {
       "model_id": "e2bdb983cea245e99e9ac88741b93fe0",
       "version_major": 2,
       "version_minor": 0
      },
      "text/plain": [
       "ViewInteractiveWidget(height=768, layout=Layout(height='auto', width='100%'), width=1024)"
      ]
     },
     "metadata": {},
     "output_type": "display_data"
    }
   ],
   "source": [
    "# Visualizing how true mesh looks like\n",
    "pl = pv.Plotter()\n",
    "pl.set_background('white')\n",
    "pl.add_mesh(target_mesh_copy.slice(normal='y'),scalars=\"mag(U)\",clim=[1e-3,1],scalar_bar_args={'color':'black'})\n",
    "pl.view_xz()\n",
    "pl.show()"
   ]
  },
  {
   "cell_type": "markdown",
   "id": "c451b7e6",
   "metadata": {},
   "source": [
    "### Interpolation and superimposition"
   ]
  },
  {
   "cell_type": "code",
   "execution_count": 63,
   "id": "9a8a21c5",
   "metadata": {},
   "outputs": [
    {
     "name": "stdout",
     "output_type": "stream",
     "text": [
      "9.443105459213257\n"
     ]
    }
   ],
   "source": [
    "# Superimpose the interpolated points at idx\n",
    "import time\n",
    "\n",
    "start=time.time()\n",
    "idx=interp_mesh.find_containing_cell(target_mesh_copy.cell_centers().points)\n",
    "true_idx=target_mesh_copy.find_containing_cell(target_mesh_copy.cell_centers().points)\n",
    "\n",
    "interp_mesh_copy=interp_mesh.copy()\n",
    "interp_mesh_copy.clear_data()\n",
    "\n",
    "for field in ['strainRate', 'epsilon', 'k', 'U', 'mag(U)']:\n",
    "    #Get the flow field data of both meshes\n",
    "    interp_field=interp_mesh[field]\n",
    "    true_field=target_mesh_copy[field]\n",
    "\n",
    "    interp_field[idx]=true_field[true_idx]\n",
    "    \n",
    "    interp_mesh_copy[field]=interp_field\n",
    "    \n",
    "end=time.time()\n",
    "print(end-start)"
   ]
  },
  {
   "cell_type": "code",
   "execution_count": 64,
   "id": "f037145e",
   "metadata": {},
   "outputs": [
    {
     "data": {
      "text/plain": [
       "(43593,)"
      ]
     },
     "execution_count": 64,
     "metadata": {},
     "output_type": "execute_result"
    }
   ],
   "source": [
    "np.where(interp_mesh_copy[\"mag(U)\"][idx_v2]!=target_mesh_copy[\"mag(U)\"][true_idx])[0].shape"
   ]
  },
  {
   "cell_type": "code",
   "execution_count": 66,
   "id": "7278fbd8",
   "metadata": {},
   "outputs": [
    {
     "data": {
      "application/vnd.jupyter.widget-view+json": {
       "model_id": "29f861a47c394e9dab0ea4acf63f9279",
       "version_major": 2,
       "version_minor": 0
      },
      "text/plain": [
       "ViewInteractiveWidget(height=768, layout=Layout(height='auto', width='100%'), width=1024)"
      ]
     },
     "metadata": {},
     "output_type": "display_data"
    }
   ],
   "source": [
    "# Visualizing how true mesh looks like after sumperimposing\n",
    "pl = pv.Plotter()\n",
    "pl.set_background('white')\n",
    "pl.add_mesh(interp_mesh_copy.slice(normal='y'),scalars=\"mag(U)\",clim=[1e-3,1],scalar_bar_args={'color':'black'},log_scale=True)\n",
    "pl.view_xz()\n",
    "pl.show()"
   ]
  },
  {
   "cell_type": "code",
   "execution_count": 71,
   "id": "e0ca3314",
   "metadata": {},
   "outputs": [],
   "source": [
    "#Visualizing epsilon,mag(U),k,strainRate flow fields\n",
    "\n",
    "pl = pv.Plotter(shape=(2,2),notebook=False)\n",
    "\n",
    "pl.set_background('white')\n",
    "pl.add_mesh(interp_mesh_copy.slice(normal='y'),scalars=\"mag(U)\",clim=[1e-3,1],scalar_bar_args={'color':'black'},log_scale=True)\n",
    "pl.view_xz()\n",
    "\n",
    "pl.subplot(0,1)\n",
    "pl.add_mesh(interp_mesh_copy.slice(normal='y'),scalars=\"k\",clim=[1e-3,1],scalar_bar_args={'color':'black'},log_scale=True)\n",
    "pl.view_xz()\n",
    "\n",
    "pl.subplot(1,0)\n",
    "pl.add_mesh(interp_mesh_copy.slice(normal='y'),scalars=\"strainRate\",clim=[0.5,100],scalar_bar_args={'color':'black'},log_scale=True)\n",
    "pl.view_xz()\n",
    "\n",
    "pl.subplot(1,1)\n",
    "pl.add_mesh(interp_mesh_copy.slice(normal='y'),scalars=\"epsilon\",clim=[1e-3,1],scalar_bar_args={'color':'black'},log_scale=True)\n",
    "pl.view_xz()\n",
    "\n",
    "pl.show()"
   ]
  },
  {
   "cell_type": "code",
   "execution_count": 70,
   "id": "502722e8",
   "metadata": {},
   "outputs": [
    {
     "name": "stdout",
     "output_type": "stream",
     "text": [
      "(810203,)\n"
     ]
    }
   ],
   "source": [
    "idx=interp_mesh_copy.find_containing_cell(target_mesh_copy.cell_centers().points)\n",
    "print(idx.shape)\n",
    "radius=\"0.001_with_superimposition\"\n",
    "\n",
    "calc_regression_metrics(target_mesh_copy,interp_mesh_v2_copy,idx,f\"{radius}\", base_folder)"
   ]
  },
  {
   "cell_type": "markdown",
   "id": "7bce089a",
   "metadata": {},
   "source": [
    "### Conclusion\n",
    "- The interpolated mesh with less interpolation error is one that utilized radius=0.001. But there exists missing data or gaps below the impeller and at the surface.\n",
    "- The interpolated mesh utilizing radius=0.0075 gives acceptable interpolation error with no gaps existing.\n",
    "- The interpolated mesh utilizing radius=0.0155 and above give mesh with no gaps but interpolation error is very high.\n",
    "- The last snippet where the interpolated values are superimposed by the original values, give mesh with very less interpolation error and with gaps existing (which is obvious). The code snippet just demonstartes how we can achieve the same. "
   ]
  },
  {
   "cell_type": "code",
   "execution_count": null,
   "id": "06d06a4c",
   "metadata": {},
   "outputs": [],
   "source": []
  }
 ],
 "metadata": {
  "kernelspec": {
   "display_name": "Python 3 (ipykernel)",
   "language": "python",
   "name": "python3"
  },
  "language_info": {
   "codemirror_mode": {
    "name": "ipython",
    "version": 3
   },
   "file_extension": ".py",
   "mimetype": "text/x-python",
   "name": "python",
   "nbconvert_exporter": "python",
   "pygments_lexer": "ipython3",
   "version": "3.9.15"
  }
 },
 "nbformat": 4,
 "nbformat_minor": 5
}
