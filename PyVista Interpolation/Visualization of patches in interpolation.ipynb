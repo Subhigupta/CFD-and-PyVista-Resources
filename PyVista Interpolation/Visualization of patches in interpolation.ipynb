{
 "cells": [
  {
   "cell_type": "markdown",
   "id": "b84720a7",
   "metadata": {},
   "source": [
    "### Import all necessary files"
   ]
  },
  {
   "cell_type": "code",
   "execution_count": null,
   "id": "d47b1b54",
   "metadata": {},
   "outputs": [],
   "source": [
    "import pyvista as pv"
   ]
  },
  {
   "cell_type": "markdown",
   "id": "e7d13717",
   "metadata": {},
   "source": [
    "### Define the function for reading any mesh data"
   ]
  },
  {
   "cell_type": "code",
   "execution_count": null,
   "id": "17f110c2",
   "metadata": {},
   "outputs": [],
   "source": [
    "#Check if foam file exists or not\n",
    "def _get_foam_file(file_path):\n",
    "    for file in os.listdir(file_path):\n",
    "        if file.endswith('.foam'):\n",
    "            return os.path.join(file_path, file)\n",
    "\n",
    "#Read mesh data using pyvista open foam reader\n",
    "def _read_mesh_data(work_dir):\n",
    "\n",
    "    reader = pv.OpenFOAMReader(_get_foam_file(work_dir))\n",
    "    last_time_step = int(reader.time_values[-1])\n",
    "    reader.set_active_time_value(last_time_step)\n",
    "    # reader.cell_to_point_creation = False\n",
    "\n",
    "    internal_mesh = reader.read()[\"internalMesh\"]\n",
    "    boundaries = reader.read()[\"boundary\"]\n",
    "\n",
    "    internal_mesh.work_dir = work_dir\n",
    "    internal_mesh.active_time_value = last_time_step\n",
    "\n",
    "    return internal_mesh, boundaries\n",
    "\n",
    "#Store the selected flow fields in the mesh\n",
    "def _select_only_relevant_field_data(pvObject, fields):\n",
    "\n",
    "    pvCopy = pvObject.copy()\n",
    "    pvCopy.clear_data()\n",
    "    for field in fields:\n",
    "        if field in pvObject.array_names:\n",
    "            pvCopy[field] = pvObject[field]\n",
    "    \n",
    "    pvCopy = pvCopy.cell_data_to_point_data() #converting cell data to point data\n",
    "    return pvCopy\n",
    "\n",
    "fields = ['epsilon', 'U', 'mag(U)','k', 'strainRate']"
   ]
  },
  {
   "cell_type": "markdown",
   "id": "d12505eb",
   "metadata": {},
   "source": [
    "### Read the target mesh that is to be interpolated"
   ]
  },
  {
   "cell_type": "code",
   "execution_count": null,
   "id": "a9233b7e",
   "metadata": {},
   "outputs": [],
   "source": [
    "target_mesh_dir=r\"D:\\GPOD ANN Sartorius BioStat 50L 30 degrees removed geoms modified v4\\Sartorius BioStat 50L\\BIOSTAT_50L_Run_06\"\n",
    "internal_mesh,_=_read_mesh_data(target_mesh_dir)\n",
    "target_mesh=_select_only_relevant_field_data(internal_mesh, fields)\n",
    "target_mesh"
   ]
  },
  {
   "cell_type": "markdown",
   "id": "b105a66f",
   "metadata": {},
   "source": [
    "### Read the largest geometry mesh"
   ]
  },
  {
   "cell_type": "code",
   "execution_count": null,
   "id": "6e8793a2",
   "metadata": {},
   "outputs": [],
   "source": [
    "largest_mesh_dir=r\"D:\\GPOD ANN Sartorius BioStat 50L 30 degrees removed geoms modified v4\\Sartorius BioStat 50L\\BIOSTAT_50L_Run_41\"\n",
    "largest_mesh,_=_read_mesh_data(largest_mesh_dir)\n",
    "largest_mesh.clear_data()\n",
    "largest_mesh"
   ]
  },
  {
   "cell_type": "markdown",
   "id": "8d7063ef",
   "metadata": {},
   "source": [
    "### Interpolate target_mesh against largest_geom with radius=0.001"
   ]
  },
  {
   "cell_type": "code",
   "execution_count": 1,
   "id": "71399902",
   "metadata": {},
   "outputs": [
    {
     "ename": "NameError",
     "evalue": "name 'largest_mesh' is not defined",
     "output_type": "error",
     "traceback": [
      "\u001b[1;31m---------------------------------------------------------------------------\u001b[0m",
      "\u001b[1;31mNameError\u001b[0m                                 Traceback (most recent call last)",
      "Cell \u001b[1;32mIn[1], line 1\u001b[0m\n\u001b[1;32m----> 1\u001b[0m interp_mesh \u001b[38;5;241m=\u001b[39m \u001b[43mlargest_mesh\u001b[49m\u001b[38;5;241m.\u001b[39minterpolate(target_mesh, radius \u001b[38;5;241m=\u001b[39m \u001b[38;5;241m1e-3\u001b[39m, progress_bar \u001b[38;5;241m=\u001b[39m \u001b[38;5;28;01mTrue\u001b[39;00m)\n\u001b[0;32m      2\u001b[0m interp_mesh \u001b[38;5;241m=\u001b[39m interp_mesh\u001b[38;5;241m.\u001b[39mpoint_data_to_cell_data()\n\u001b[0;32m      3\u001b[0m interp_mesh\n",
      "\u001b[1;31mNameError\u001b[0m: name 'largest_mesh' is not defined"
     ]
    }
   ],
   "source": [
    "interp_mesh = largest_mesh.interpolate(target_mesh, radius = 1e-3, progress_bar = True)\n",
    "interp_mesh = interp_mesh.point_data_to_cell_data()\n",
    "interp_mesh"
   ]
  },
  {
   "cell_type": "code",
   "execution_count": null,
   "id": "db943c97",
   "metadata": {},
   "outputs": [],
   "source": [
    "def visulaizing_patch(true_mesh,interp_mesh,folder_name):\n",
    "    \n",
    "    #Slice the true mesh and find the cell centers\n",
    "    sliced_true_mesh=true_mesh.slice(normal='y')\n",
    "    sliced_true_mesh_cells=sliced_true_mesh.cell_centers().points\n",
    "    \n",
    "    #Slice the interpolated mesh and find the cell ids for sliced true mesh cell centers \n",
    "    sliced_interp_mesh=interp_mesh.slice(normal='y')\n",
    "    sliced_mesh_idx=sliced_interp_mesh.find_containing_cell(sliced_true_mesh_cells)\n",
    "    \n",
    "    #Find the cell centers at thos id's\n",
    "    sliced_interp_mesh_cells=sliced_interp_mesh.cell_centers().points[sliced_mesh_idx]\n",
    "    \n",
    "    #Generate a plot to see the where the cell centers are present across the geometry\n",
    "    pl=pv.Plotter(notebook=True)\n",
    "    pl.set_background('white')\n",
    "    #pl.add_mesh(sliced_interp_mesh,opacity=0.6,color='lightblue')\n",
    "    pl.add_mesh(sliced_interp_mesh,scalars='strainRate', opacity = 0.5,\n",
    "                 clim=[0.5,100],log_scale=True,show_scalar_bar=True,scalar_bar_args={'color':'black'})\n",
    "    pl.add_mesh(sliced_true_mesh_cells, color='red', point_size=3, render_points_as_spheres=True)\n",
    "    pl.add_mesh(sliced_interp_mesh_cells, color='darkblue', point_size=3, render_points_as_spheres=True)\n",
    "    pl.view_xz()\n",
    "    \n",
    "    # Construct the folder path\n",
    "    global base_folder\n",
    "    folder_path = os.path.join(base_folder, \"Analysis for interpolation verification\", folder_name)\n",
    "\n",
    "    # Create the folder if it doesn't exist\n",
    "    os.makedirs(folder_path, exist_ok=True)\n",
    "\n",
    "    pl.screenshot(folder_path + '\\\\'+ f\"interpolation_intersection.png\")\n",
    "        "
   ]
  }
 ],
 "metadata": {
  "kernelspec": {
   "display_name": "Python 3 (ipykernel)",
   "language": "python",
   "name": "python3"
  },
  "language_info": {
   "codemirror_mode": {
    "name": "ipython",
    "version": 3
   },
   "file_extension": ".py",
   "mimetype": "text/x-python",
   "name": "python",
   "nbconvert_exporter": "python",
   "pygments_lexer": "ipython3",
   "version": "3.9.15"
  }
 },
 "nbformat": 4,
 "nbformat_minor": 5
}
