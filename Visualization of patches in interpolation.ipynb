{
 "cells": [
  {
   "cell_type": "markdown",
   "id": "6a8acb2d",
   "metadata": {},
   "source": [
    "### Introduction\n",
    "- Let's consider two meshes:\n",
    "    - Target mesh which has all flow fields point data information. Let's call this point cloud data.\n",
    "    - Source mesh which ia an empty mesh onto which estimation of flow fields are to be made.\n",
    "- So through interpolation, estimation of flow fields point data information onto the source mesh, is made from the existing point cloud data.\n",
    "- Radius helps in determing how far to search in point cloud data.\n",
    "- If you see a patch after interpolation has been conducted for the source mesh, then it indicates that no estimation has been made for those locations in the source mesh, which indicates presence of no points within the radius specified."
   ]
  },
  {
   "cell_type": "markdown",
   "id": "880436c2",
   "metadata": {},
   "source": [
    "### Objective\n",
    "- Exploring why patches do occur during interpolation utilizing the target mesh."
   ]
  },
  {
   "cell_type": "markdown",
   "id": "b84720a7",
   "metadata": {},
   "source": [
    "### Import all necessary files"
   ]
  },
  {
   "cell_type": "code",
   "execution_count": 4,
   "id": "d47b1b54",
   "metadata": {},
   "outputs": [],
   "source": [
    "import pyvista as pv\n",
    "import os"
   ]
  },
  {
   "cell_type": "markdown",
   "id": "e7d13717",
   "metadata": {},
   "source": [
    "### Define the function for reading any mesh data"
   ]
  },
  {
   "cell_type": "code",
   "execution_count": 5,
   "id": "17f110c2",
   "metadata": {},
   "outputs": [],
   "source": [
    "#Check if foam file exists or not\n",
    "def _get_foam_file(file_path):\n",
    "    for file in os.listdir(file_path):\n",
    "        if file.endswith('.foam'):\n",
    "            return os.path.join(file_path, file)\n",
    "\n",
    "#Read mesh data using pyvista open foam reader\n",
    "def _read_mesh_data(work_dir):\n",
    "\n",
    "    reader = pv.OpenFOAMReader(_get_foam_file(work_dir))\n",
    "    last_time_step = int(reader.time_values[-1])\n",
    "    reader.set_active_time_value(last_time_step)\n",
    "    # reader.cell_to_point_creation = False\n",
    "\n",
    "    internal_mesh = reader.read()[\"internalMesh\"]\n",
    "    boundaries = reader.read()[\"boundary\"]\n",
    "\n",
    "    internal_mesh.work_dir = work_dir\n",
    "    internal_mesh.active_time_value = last_time_step\n",
    "\n",
    "    return internal_mesh, boundaries\n",
    "\n",
    "#Store the selected flow fields in the mesh\n",
    "def _select_only_relevant_field_data(pvObject, fields):\n",
    "\n",
    "    pvCopy = pvObject.copy()\n",
    "    pvCopy.clear_data()\n",
    "    for field in fields:\n",
    "        if field in pvObject.array_names:\n",
    "            pvCopy[field] = pvObject[field]\n",
    "    \n",
    "    pvCopy = pvCopy.cell_data_to_point_data() #converting cell data to point data\n",
    "    return pvCopy\n",
    "\n",
    "fields = ['epsilon', 'U', 'mag(U)','k', 'strainRate']"
   ]
  },
  {
   "cell_type": "markdown",
   "id": "d12505eb",
   "metadata": {},
   "source": [
    "### Read the target mesh that is to be interpolated"
   ]
  },
  {
   "cell_type": "code",
   "execution_count": 6,
   "id": "a9233b7e",
   "metadata": {},
   "outputs": [
    {
     "data": {
      "text/html": [
       "<table><tr><th>Header</th><th>Data Arrays</th></tr><tr><td>\n",
       "<table>\n",
       "<tr><th>UnstructuredGrid</th><th>Information</th></tr>\n",
       "<tr><td>N Cells</td><td>810203</td></tr>\n",
       "<tr><td>N Points</td><td>950115</td></tr>\n",
       "<tr><td>X Bounds</td><td>-1.850e-01, 1.850e-01</td></tr>\n",
       "<tr><td>Y Bounds</td><td>-1.850e-01, 1.850e-01</td></tr>\n",
       "<tr><td>Z Bounds</td><td>-9.250e-02, 2.220e-01</td></tr>\n",
       "<tr><td>N Arrays</td><td>5</td></tr>\n",
       "</table>\n",
       "\n",
       "</td><td>\n",
       "<table>\n",
       "<tr><th>Name</th><th>Field</th><th>Type</th><th>N Comp</th><th>Min</th><th>Max</th></tr>\n",
       "<tr><td>epsilon</td><td>Points</td><td>float32</td><td>1</td><td>6.858e-04</td><td>4.240e+01</td></tr>\n",
       "<tr><td>U</td><td>Points</td><td>float32</td><td>3</td><td>-1.031e+00</td><td>9.833e-01</td></tr>\n",
       "<tr><td>mag(U)</td><td>Points</td><td>float32</td><td>1</td><td>6.458e-03</td><td>1.089e+00</td></tr>\n",
       "<tr><td>k</td><td>Points</td><td>float32</td><td>1</td><td>2.041e-04</td><td>7.771e-02</td></tr>\n",
       "<tr><td><b>strainRate</b></td><td>Points</td><td>float32</td><td>1</td><td>0.000e+00</td><td>2.004e+03</td></tr>\n",
       "</table>\n",
       "\n",
       "</td></tr> </table>"
      ],
      "text/plain": [
       "UnstructuredGrid (0x17b4713a460)\n",
       "  N Cells:\t810203\n",
       "  N Points:\t950115\n",
       "  X Bounds:\t-1.850e-01, 1.850e-01\n",
       "  Y Bounds:\t-1.850e-01, 1.850e-01\n",
       "  Z Bounds:\t-9.250e-02, 2.220e-01\n",
       "  N Arrays:\t5"
      ]
     },
     "execution_count": 6,
     "metadata": {},
     "output_type": "execute_result"
    }
   ],
   "source": [
    "target_mesh_dir=r\"D:\\GPOD ANN Sartorius BioStat 50L 30 degrees removed geoms modified v4\\Sartorius BioStat 50L\\BIOSTAT_50L_Run_06\"\n",
    "internal_mesh,_=_read_mesh_data(target_mesh_dir)\n",
    "target_mesh=_select_only_relevant_field_data(internal_mesh, fields)\n",
    "target_mesh"
   ]
  },
  {
   "cell_type": "markdown",
   "id": "b105a66f",
   "metadata": {},
   "source": [
    "### Read the largest geometry mesh"
   ]
  },
  {
   "cell_type": "code",
   "execution_count": 7,
   "id": "6e8793a2",
   "metadata": {},
   "outputs": [
    {
     "data": {
      "text/html": [
       "\n",
       "<table>\n",
       "<tr><th>UnstructuredGrid</th><th>Information</th></tr>\n",
       "<tr><td>N Cells</td><td>1004477</td></tr>\n",
       "<tr><td>N Points</td><td>1185213</td></tr>\n",
       "<tr><td>X Bounds</td><td>-1.850e-01, 1.850e-01</td></tr>\n",
       "<tr><td>Y Bounds</td><td>-1.850e-01, 1.850e-01</td></tr>\n",
       "<tr><td>Z Bounds</td><td>-9.250e-02, 4.039e-01</td></tr>\n",
       "<tr><td>N Arrays</td><td>0</td></tr>\n",
       "</table>\n",
       "\n"
      ],
      "text/plain": [
       "UnstructuredGrid (0x17b4713adc0)\n",
       "  N Cells:\t1004477\n",
       "  N Points:\t1185213\n",
       "  X Bounds:\t-1.850e-01, 1.850e-01\n",
       "  Y Bounds:\t-1.850e-01, 1.850e-01\n",
       "  Z Bounds:\t-9.250e-02, 4.039e-01\n",
       "  N Arrays:\t0"
      ]
     },
     "execution_count": 7,
     "metadata": {},
     "output_type": "execute_result"
    }
   ],
   "source": [
    "largest_mesh_dir=r\"D:\\GPOD ANN Sartorius BioStat 50L 30 degrees removed geoms modified v4\\Sartorius BioStat 50L\\BIOSTAT_50L_Run_41\"\n",
    "largest_mesh,_=_read_mesh_data(largest_mesh_dir)\n",
    "largest_mesh.clear_data()\n",
    "largest_mesh"
   ]
  },
  {
   "cell_type": "markdown",
   "id": "8d7063ef",
   "metadata": {},
   "source": [
    "### Interpolate target_mesh against largest_geom with radius=0.001"
   ]
  },
  {
   "cell_type": "code",
   "execution_count": 8,
   "id": "71399902",
   "metadata": {},
   "outputs": [
    {
     "name": "stderr",
     "output_type": "stream",
     "text": [
      "Interpolating: 100%|██████████████████████████████████████████████████████████████████████████████████████[00:00<00:00]\n"
     ]
    },
    {
     "data": {
      "text/html": [
       "<table><tr><th>Header</th><th>Data Arrays</th></tr><tr><td>\n",
       "<table>\n",
       "<tr><th>UnstructuredGrid</th><th>Information</th></tr>\n",
       "<tr><td>N Cells</td><td>1004477</td></tr>\n",
       "<tr><td>N Points</td><td>1185213</td></tr>\n",
       "<tr><td>X Bounds</td><td>-1.850e-01, 1.850e-01</td></tr>\n",
       "<tr><td>Y Bounds</td><td>-1.850e-01, 1.850e-01</td></tr>\n",
       "<tr><td>Z Bounds</td><td>-9.250e-02, 4.039e-01</td></tr>\n",
       "<tr><td>N Arrays</td><td>5</td></tr>\n",
       "</table>\n",
       "\n",
       "</td><td>\n",
       "<table>\n",
       "<tr><th>Name</th><th>Field</th><th>Type</th><th>N Comp</th><th>Min</th><th>Max</th></tr>\n",
       "<tr><td>epsilon</td><td>Cells</td><td>float32</td><td>1</td><td>0.000e+00</td><td>1.429e+01</td></tr>\n",
       "<tr><td>U</td><td>Cells</td><td>float32</td><td>3</td><td>-1.004e+00</td><td>9.652e-01</td></tr>\n",
       "<tr><td>mag(U)</td><td>Cells</td><td>float32</td><td>1</td><td>0.000e+00</td><td>1.042e+00</td></tr>\n",
       "<tr><td>k</td><td>Cells</td><td>float32</td><td>1</td><td>0.000e+00</td><td>7.295e-02</td></tr>\n",
       "<tr><td><b>strainRate</b></td><td>Cells</td><td>float32</td><td>1</td><td>0.000e+00</td><td>8.767e+02</td></tr>\n",
       "</table>\n",
       "\n",
       "</td></tr> </table>"
      ],
      "text/plain": [
       "UnstructuredGrid (0x17b4717f9a0)\n",
       "  N Cells:\t1004477\n",
       "  N Points:\t1185213\n",
       "  X Bounds:\t-1.850e-01, 1.850e-01\n",
       "  Y Bounds:\t-1.850e-01, 1.850e-01\n",
       "  Z Bounds:\t-9.250e-02, 4.039e-01\n",
       "  N Arrays:\t5"
      ]
     },
     "execution_count": 8,
     "metadata": {},
     "output_type": "execute_result"
    }
   ],
   "source": [
    "interp_mesh = largest_mesh.interpolate(target_mesh, radius = 1e-3, progress_bar = True)\n",
    "interp_mesh = interp_mesh.point_data_to_cell_data()\n",
    "interp_mesh"
   ]
  },
  {
   "cell_type": "markdown",
   "id": "94b9fab3",
   "metadata": {},
   "source": [
    "### Visualizing patches in the largest mesh"
   ]
  },
  {
   "cell_type": "code",
   "execution_count": 11,
   "id": "db943c97",
   "metadata": {},
   "outputs": [],
   "source": [
    "def visulaizing_patch(true_mesh,interp_mesh,base_folder):\n",
    "    \n",
    "    #Slice the true mesh and find the cell centers\n",
    "    sliced_true_mesh=true_mesh.slice(normal='y')\n",
    "    sliced_true_mesh_cells=sliced_true_mesh.cell_centers().points\n",
    "    \n",
    "    #Slice the interpolated mesh and find the cell ids for sliced true mesh cell centers \n",
    "    sliced_interp_mesh=interp_mesh.slice(normal='y')\n",
    "    sliced_mesh_idx=sliced_interp_mesh.find_containing_cell(sliced_true_mesh_cells)\n",
    "    \n",
    "    #Find the cell centers at thos id's\n",
    "    sliced_interp_mesh_cells=sliced_interp_mesh.cell_centers().points[sliced_mesh_idx]\n",
    "    \n",
    "    #Generate a plot to see the where the cell centers are present across the geometry\n",
    "    pl=pv.Plotter(notebook=True)\n",
    "    pl.set_background('white')\n",
    "    #pl.add_mesh(sliced_interp_mesh,opacity=0.6,color='lightblue')\n",
    "    pl.add_mesh(sliced_interp_mesh,scalars='strainRate', opacity = 0.5,\n",
    "                 clim=[0.5,100],log_scale=True,show_scalar_bar=True,scalar_bar_args={'color':'black'})\n",
    "    pl.add_mesh(sliced_true_mesh_cells, color='red', point_size=3, render_points_as_spheres=True)\n",
    "    pl.add_mesh(sliced_interp_mesh_cells, color='darkblue', point_size=3, render_points_as_spheres=True)\n",
    "    pl.view_xz()\n",
    "    \n",
    "    # Construct the folder path\n",
    "    folder_path = os.path.join(base_folder, \"Visualizing_patches_created_by_interpolation\")\n",
    "\n",
    "    # Create the folder if it doesn't exist\n",
    "    os.makedirs(folder_path, exist_ok=True)\n",
    "\n",
    "    pl.screenshot(folder_path + '\\\\'+ f\"interpolation_intersection.png\")\n",
    "\n",
    "base_folder=r\"D:\\CFD learning\\PyVista Interpolation\"\n",
    "visulaizing_patch(target_mesh,interp_mesh,base_folder)"
   ]
  },
  {
   "cell_type": "markdown",
   "id": "419589b4",
   "metadata": {},
   "source": [
    "### Conclusion\n",
    "- Patches indicate incomplete or missing interpolated data. This can happen if the radius used for interpolation is too small to cover all necessary points or cells in certain regions. When the radius is too small, not enough neighboring points are included in the interpolation process, leading to areas with incomplete coverage or \"gaps.\"\n",
    "- Patches (the light pink regions) mostly occured below the impeller or at the surface.\n",
    "- In the light pink regions, you can see absence of the blue points, which indicates absence of interpolated/estimated points."
   ]
  },
  {
   "cell_type": "code",
   "execution_count": null,
   "id": "5e0989b2",
   "metadata": {},
   "outputs": [],
   "source": []
  }
 ],
 "metadata": {
  "kernelspec": {
   "display_name": "Python 3 (ipykernel)",
   "language": "python",
   "name": "python3"
  },
  "language_info": {
   "codemirror_mode": {
    "name": "ipython",
    "version": 3
   },
   "file_extension": ".py",
   "mimetype": "text/x-python",
   "name": "python",
   "nbconvert_exporter": "python",
   "pygments_lexer": "ipython3",
   "version": "3.9.15"
  }
 },
 "nbformat": 4,
 "nbformat_minor": 5
}
